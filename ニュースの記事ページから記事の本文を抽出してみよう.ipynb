{
  "nbformat": 4,
  "nbformat_minor": 0,
  "metadata": {
    "colab": {
      "provenance": [],
      "authorship_tag": "ABX9TyPGBr2689zi7WCEAaVRcpTk",
      "include_colab_link": true
    },
    "kernelspec": {
      "name": "python3",
      "display_name": "Python 3"
    },
    "language_info": {
      "name": "python"
    }
  },
  "cells": [
    {
      "cell_type": "markdown",
      "metadata": {
        "id": "view-in-github",
        "colab_type": "text"
      },
      "source": [
        "<a href=\"https://colab.research.google.com/github/Tomokki/python-basic/blob/main/%E3%83%8B%E3%83%A5%E3%83%BC%E3%82%B9%E3%81%AE%E8%A8%98%E4%BA%8B%E3%83%9A%E3%83%BC%E3%82%B8%E3%81%8B%E3%82%89%E8%A8%98%E4%BA%8B%E3%81%AE%E6%9C%AC%E6%96%87%E3%82%92%E6%8A%BD%E5%87%BA%E3%81%97%E3%81%A6%E3%81%BF%E3%82%88%E3%81%86.ipynb\" target=\"_parent\"><img src=\"https://colab.research.google.com/assets/colab-badge.svg\" alt=\"Open In Colab\"/></a>"
      ]
    },
    {
      "cell_type": "markdown",
      "source": [
        "### Pythonを使ってYahoo!ニュースの記事ページから記事の本文を抽出するプログラムを記述してください。"
      ],
      "metadata": {
        "id": "IY2yVstKpnZ1"
      }
    },
    {
      "cell_type": "code",
      "execution_count": null,
      "metadata": {
        "colab": {
          "base_uri": "https://localhost:8080/"
        },
        "id": "MFKXBFxBeT9W",
        "outputId": "88dc6517-3ed2-4c14-9b5c-dcd436e1e396"
      },
      "outputs": [
        {
          "output_type": "stream",
          "name": "stdout",
          "text": [
            "　三島由紀夫や川端康成といった著名な作家たちに愛されたことで知られる「山の上ホテル」（東京都千代田区）が、来年2月13日から全館で休業する。休館の理由について「竣工（しゅんこう）から86年を迎える建物の老朽化への対応を検討するため」としている。\n",
            "\n",
            "【写真】川端康成への賞状も制作　芸術家夫婦が東北の港町に小さな美術館\n",
            "\n",
            "　同社が23日に公式ウェブサイトで発表した。休館の期間については「当面の間」としている。\n",
            "\n",
            "　建物は1937年竣工で、西洋の生活様式やマナーを啓蒙（けいもう）する施設として使われた後、54年にホテルとして開業した。JR御茶ノ水駅近くに立地する日本を代表するアール・デコ建築だ。\n",
            "\n",
            "　出版社の多い神田・神保町が近いこともあり、同社サイトでは「創業当初よりさまざまな作家の方々が『カンヅメ』で執筆活動を行うために宿泊された」としている。\n",
            "\n",
            "　三科徹・代表取締役社長は「皆様には大変ご迷惑をおかけいたしますが、何とぞご理解を賜りますよう心よりお願い申し上げます」とコメントしている。\n",
            "\n",
            "　問い合わせは、平日午前9時～午後5時に、同社総務部（03・5244・5232）へ。（三井新）\n"
          ]
        }
      ],
      "source": [
        "import requests\n",
        "from bs4 import BeautifulSoup\n",
        "\n",
        "url = 'https://news.yahoo.co.jp/articles/2d51a6c480fe0ab975544800e64aeccc5b7a7b59'\n",
        "response = requests.get(url)\n",
        "\n",
        "content = response.text\n",
        "\n",
        "soup = BeautifulSoup(content, 'html.parser')\n",
        "\n",
        "articles = soup.select_one('#uamods > div > div > p')\n",
        "\n",
        "print(articles.get_text())\n"
      ]
    }
  ]
}