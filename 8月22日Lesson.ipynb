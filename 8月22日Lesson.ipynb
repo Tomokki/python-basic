{
  "nbformat": 4,
  "nbformat_minor": 0,
  "metadata": {
    "colab": {
      "provenance": [],
      "collapsed_sections": [
        "1VrxUOJQUrU5",
        "B9SjjtkuVtVv",
        "J66R4PnNV4j4",
        "SWZyq401XJT2",
        "qE3JozYAZZ61"
      ],
      "authorship_tag": "ABX9TyNcK4WOlieGw0JYQr3JqKDL",
      "include_colab_link": true
    },
    "kernelspec": {
      "name": "python3",
      "display_name": "Python 3"
    },
    "language_info": {
      "name": "python"
    }
  },
  "cells": [
    {
      "cell_type": "markdown",
      "metadata": {
        "id": "view-in-github",
        "colab_type": "text"
      },
      "source": [
        "<a href=\"https://colab.research.google.com/github/Tomokki/python-basic/blob/main/8%E6%9C%8822%E6%97%A5Lesson.ipynb\" target=\"_parent\"><img src=\"https://colab.research.google.com/assets/colab-badge.svg\" alt=\"Open In Colab\"/></a>"
      ]
    },
    {
      "cell_type": "markdown",
      "source": [
        "#8月22日Lesson"
      ],
      "metadata": {
        "id": "XYRHNGIfPYuU"
      }
    },
    {
      "cell_type": "code",
      "execution_count": null,
      "metadata": {
        "colab": {
          "base_uri": "https://localhost:8080/"
        },
        "id": "_r0iDEMYJG5y",
        "outputId": "686eb7f1-b326-4a78-8a1f-2353ac4d207d"
      },
      "outputs": [
        {
          "output_type": "stream",
          "name": "stdout",
          "text": [
            "20\n",
            "成人\n"
          ]
        }
      ],
      "source": [
        "a=input()\n",
        "a.isdigit()\n",
        "\n",
        "if a.isdigit()==True :\n",
        "\n",
        "\n",
        " if int(a) <18:\n",
        "    print('未成年')\n",
        " elif 18<=int(a) <65:\n",
        "    print('成人')\n",
        " else :\n",
        "  print(\"高齢者\")\n"
      ]
    },
    {
      "cell_type": "code",
      "source": [
        "days=[\"月\",\"火\",\"水\",\"木\",\"金\"]\n",
        "\n",
        "days[1]=\"炎\"\n",
        "\n",
        "print(days[1])\n"
      ],
      "metadata": {
        "id": "DyCwwBQDKSNw",
        "colab": {
          "base_uri": "https://localhost:8080/"
        },
        "outputId": "705ee6d2-650c-4050-ddb9-6f1e8ff950ae"
      },
      "execution_count": null,
      "outputs": [
        {
          "output_type": "stream",
          "name": "stdout",
          "text": [
            "炎\n"
          ]
        }
      ]
    },
    {
      "cell_type": "code",
      "source": [
        "days=[\"月\",\"火\",\"水\",\"木\",\"金\"]\n",
        "\n",
        "for day in days:\n",
        " print(day)\n"
      ],
      "metadata": {
        "colab": {
          "base_uri": "https://localhost:8080/"
        },
        "id": "5j7CIxH5QN-D",
        "outputId": "12f1e3c5-9025-4d11-d7b5-6402eae903a8"
      },
      "execution_count": null,
      "outputs": [
        {
          "output_type": "stream",
          "name": "stdout",
          "text": [
            "月\n",
            "火\n",
            "水\n",
            "木\n",
            "金\n"
          ]
        }
      ]
    },
    {
      "cell_type": "code",
      "source": [
        "days=[\"月\",\"火\",\"水\",\"木\",\"金\"]\n",
        "\n",
        "days[1:4]"
      ],
      "metadata": {
        "colab": {
          "base_uri": "https://localhost:8080/"
        },
        "id": "DFnU_hwQSe7u",
        "outputId": "c95357f9-8f50-47f5-ca76-04996e282b29"
      },
      "execution_count": null,
      "outputs": [
        {
          "output_type": "execute_result",
          "data": {
            "text/plain": [
              "['火', '水', '木']"
            ]
          },
          "metadata": {},
          "execution_count": 16
        }
      ]
    },
    {
      "cell_type": "markdown",
      "source": [
        "#こんにちわを100個表示"
      ],
      "metadata": {
        "id": "1VrxUOJQUrU5"
      }
    },
    {
      "cell_type": "code",
      "source": [
        "message = \"こんにちは\"\n",
        "\n",
        "for _ in range(100):\n",
        "   print(message)"
      ],
      "metadata": {
        "colab": {
          "base_uri": "https://localhost:8080/"
        },
        "id": "OClSk0_6TeGq",
        "outputId": "caf77c26-6189-4b07-b2b5-56b5abba9e9c"
      },
      "execution_count": null,
      "outputs": [
        {
          "output_type": "stream",
          "name": "stdout",
          "text": [
            "こんにちは\n",
            "こんにちは\n",
            "こんにちは\n",
            "こんにちは\n",
            "こんにちは\n",
            "こんにちは\n",
            "こんにちは\n",
            "こんにちは\n",
            "こんにちは\n",
            "こんにちは\n",
            "こんにちは\n",
            "こんにちは\n",
            "こんにちは\n",
            "こんにちは\n",
            "こんにちは\n",
            "こんにちは\n",
            "こんにちは\n",
            "こんにちは\n",
            "こんにちは\n",
            "こんにちは\n",
            "こんにちは\n",
            "こんにちは\n",
            "こんにちは\n",
            "こんにちは\n",
            "こんにちは\n",
            "こんにちは\n",
            "こんにちは\n",
            "こんにちは\n",
            "こんにちは\n",
            "こんにちは\n",
            "こんにちは\n",
            "こんにちは\n",
            "こんにちは\n",
            "こんにちは\n",
            "こんにちは\n",
            "こんにちは\n",
            "こんにちは\n",
            "こんにちは\n",
            "こんにちは\n",
            "こんにちは\n",
            "こんにちは\n",
            "こんにちは\n",
            "こんにちは\n",
            "こんにちは\n",
            "こんにちは\n",
            "こんにちは\n",
            "こんにちは\n",
            "こんにちは\n",
            "こんにちは\n",
            "こんにちは\n",
            "こんにちは\n",
            "こんにちは\n",
            "こんにちは\n",
            "こんにちは\n",
            "こんにちは\n",
            "こんにちは\n",
            "こんにちは\n",
            "こんにちは\n",
            "こんにちは\n",
            "こんにちは\n",
            "こんにちは\n",
            "こんにちは\n",
            "こんにちは\n",
            "こんにちは\n",
            "こんにちは\n",
            "こんにちは\n",
            "こんにちは\n",
            "こんにちは\n",
            "こんにちは\n",
            "こんにちは\n",
            "こんにちは\n",
            "こんにちは\n",
            "こんにちは\n",
            "こんにちは\n",
            "こんにちは\n",
            "こんにちは\n",
            "こんにちは\n",
            "こんにちは\n",
            "こんにちは\n",
            "こんにちは\n",
            "こんにちは\n",
            "こんにちは\n",
            "こんにちは\n",
            "こんにちは\n",
            "こんにちは\n",
            "こんにちは\n",
            "こんにちは\n",
            "こんにちは\n",
            "こんにちは\n",
            "こんにちは\n",
            "こんにちは\n",
            "こんにちは\n",
            "こんにちは\n",
            "こんにちは\n",
            "こんにちは\n",
            "こんにちは\n",
            "こんにちは\n",
            "こんにちは\n",
            "こんにちは\n",
            "こんにちは\n"
          ]
        }
      ]
    },
    {
      "cell_type": "markdown",
      "source": [
        "#何回目のこんにちわ　を表示"
      ],
      "metadata": {
        "id": "B9SjjtkuVtVv"
      }
    },
    {
      "cell_type": "code",
      "source": [
        "message = \"こんにちは\"\n",
        "\n",
        "for i in range(1, 100):\n",
        "    print(f\"{i}回目のこんにちは\")\n"
      ],
      "metadata": {
        "colab": {
          "base_uri": "https://localhost:8080/"
        },
        "id": "bWtVRlGIUvg3",
        "outputId": "8b3693a7-7694-4e7e-cad7-723875758fd7"
      },
      "execution_count": null,
      "outputs": [
        {
          "output_type": "stream",
          "name": "stdout",
          "text": [
            "1回目のこんにちは\n",
            "2回目のこんにちは\n",
            "3回目のこんにちは\n",
            "4回目のこんにちは\n",
            "5回目のこんにちは\n",
            "6回目のこんにちは\n",
            "7回目のこんにちは\n",
            "8回目のこんにちは\n",
            "9回目のこんにちは\n",
            "10回目のこんにちは\n",
            "11回目のこんにちは\n",
            "12回目のこんにちは\n",
            "13回目のこんにちは\n",
            "14回目のこんにちは\n",
            "15回目のこんにちは\n",
            "16回目のこんにちは\n",
            "17回目のこんにちは\n",
            "18回目のこんにちは\n",
            "19回目のこんにちは\n",
            "20回目のこんにちは\n",
            "21回目のこんにちは\n",
            "22回目のこんにちは\n",
            "23回目のこんにちは\n",
            "24回目のこんにちは\n",
            "25回目のこんにちは\n",
            "26回目のこんにちは\n",
            "27回目のこんにちは\n",
            "28回目のこんにちは\n",
            "29回目のこんにちは\n",
            "30回目のこんにちは\n",
            "31回目のこんにちは\n",
            "32回目のこんにちは\n",
            "33回目のこんにちは\n",
            "34回目のこんにちは\n",
            "35回目のこんにちは\n",
            "36回目のこんにちは\n",
            "37回目のこんにちは\n",
            "38回目のこんにちは\n",
            "39回目のこんにちは\n",
            "40回目のこんにちは\n",
            "41回目のこんにちは\n",
            "42回目のこんにちは\n",
            "43回目のこんにちは\n",
            "44回目のこんにちは\n",
            "45回目のこんにちは\n",
            "46回目のこんにちは\n",
            "47回目のこんにちは\n",
            "48回目のこんにちは\n",
            "49回目のこんにちは\n",
            "50回目のこんにちは\n",
            "51回目のこんにちは\n",
            "52回目のこんにちは\n",
            "53回目のこんにちは\n",
            "54回目のこんにちは\n",
            "55回目のこんにちは\n",
            "56回目のこんにちは\n",
            "57回目のこんにちは\n",
            "58回目のこんにちは\n",
            "59回目のこんにちは\n",
            "60回目のこんにちは\n",
            "61回目のこんにちは\n",
            "62回目のこんにちは\n",
            "63回目のこんにちは\n",
            "64回目のこんにちは\n",
            "65回目のこんにちは\n",
            "66回目のこんにちは\n",
            "67回目のこんにちは\n",
            "68回目のこんにちは\n",
            "69回目のこんにちは\n",
            "70回目のこんにちは\n",
            "71回目のこんにちは\n",
            "72回目のこんにちは\n",
            "73回目のこんにちは\n",
            "74回目のこんにちは\n",
            "75回目のこんにちは\n",
            "76回目のこんにちは\n",
            "77回目のこんにちは\n",
            "78回目のこんにちは\n",
            "79回目のこんにちは\n",
            "80回目のこんにちは\n",
            "81回目のこんにちは\n",
            "82回目のこんにちは\n",
            "83回目のこんにちは\n",
            "84回目のこんにちは\n",
            "85回目のこんにちは\n",
            "86回目のこんにちは\n",
            "87回目のこんにちは\n",
            "88回目のこんにちは\n",
            "89回目のこんにちは\n",
            "90回目のこんにちは\n",
            "91回目のこんにちは\n",
            "92回目のこんにちは\n",
            "93回目のこんにちは\n",
            "94回目のこんにちは\n",
            "95回目のこんにちは\n",
            "96回目のこんにちは\n",
            "97回目のこんにちは\n",
            "98回目のこんにちは\n",
            "99回目のこんにちは\n"
          ]
        }
      ]
    },
    {
      "cell_type": "markdown",
      "source": [
        "#スライド"
      ],
      "metadata": {
        "id": "J66R4PnNV4j4"
      }
    },
    {
      "cell_type": "code",
      "source": [
        "for a in range(3):\n",
        "   for b in range(2):\n",
        "    print(\"a=\",a,\"b=\",b)"
      ],
      "metadata": {
        "colab": {
          "base_uri": "https://localhost:8080/"
        },
        "id": "gZpLQLBoWAs3",
        "outputId": "fa3f09c5-f2b5-4449-de76-9ea76a2d74d4"
      },
      "execution_count": null,
      "outputs": [
        {
          "output_type": "stream",
          "name": "stdout",
          "text": [
            "a= 0 b= 0\n",
            "a= 0 b= 1\n",
            "a= 1 b= 0\n",
            "a= 1 b= 1\n",
            "a= 2 b= 0\n",
            "a= 2 b= 1\n"
          ]
        }
      ]
    },
    {
      "cell_type": "markdown",
      "source": [
        "#掛け算の九九をfor文を使って作成"
      ],
      "metadata": {
        "id": "SWZyq401XJT2"
      }
    },
    {
      "cell_type": "code",
      "source": [
        "for a in range(1,10):\n",
        "    for b in range(1,10):\n",
        "      result = a * b\n",
        "      print(f\"{a} × {b} = {result}\")"
      ],
      "metadata": {
        "colab": {
          "base_uri": "https://localhost:8080/"
        },
        "id": "jTSAuDk7XPzd",
        "outputId": "ab4ed2a4-e4d0-4bab-9ffa-d68d19c087a2"
      },
      "execution_count": null,
      "outputs": [
        {
          "output_type": "stream",
          "name": "stdout",
          "text": [
            "1 × 1 = 1\n",
            "1 × 2 = 2\n",
            "1 × 3 = 3\n",
            "1 × 4 = 4\n",
            "1 × 5 = 5\n",
            "1 × 6 = 6\n",
            "1 × 7 = 7\n",
            "1 × 8 = 8\n",
            "1 × 9 = 9\n",
            "2 × 1 = 2\n",
            "2 × 2 = 4\n",
            "2 × 3 = 6\n",
            "2 × 4 = 8\n",
            "2 × 5 = 10\n",
            "2 × 6 = 12\n",
            "2 × 7 = 14\n",
            "2 × 8 = 16\n",
            "2 × 9 = 18\n",
            "3 × 1 = 3\n",
            "3 × 2 = 6\n",
            "3 × 3 = 9\n",
            "3 × 4 = 12\n",
            "3 × 5 = 15\n",
            "3 × 6 = 18\n",
            "3 × 7 = 21\n",
            "3 × 8 = 24\n",
            "3 × 9 = 27\n",
            "4 × 1 = 4\n",
            "4 × 2 = 8\n",
            "4 × 3 = 12\n",
            "4 × 4 = 16\n",
            "4 × 5 = 20\n",
            "4 × 6 = 24\n",
            "4 × 7 = 28\n",
            "4 × 8 = 32\n",
            "4 × 9 = 36\n",
            "5 × 1 = 5\n",
            "5 × 2 = 10\n",
            "5 × 3 = 15\n",
            "5 × 4 = 20\n",
            "5 × 5 = 25\n",
            "5 × 6 = 30\n",
            "5 × 7 = 35\n",
            "5 × 8 = 40\n",
            "5 × 9 = 45\n",
            "6 × 1 = 6\n",
            "6 × 2 = 12\n",
            "6 × 3 = 18\n",
            "6 × 4 = 24\n",
            "6 × 5 = 30\n",
            "6 × 6 = 36\n",
            "6 × 7 = 42\n",
            "6 × 8 = 48\n",
            "6 × 9 = 54\n",
            "7 × 1 = 7\n",
            "7 × 2 = 14\n",
            "7 × 3 = 21\n",
            "7 × 4 = 28\n",
            "7 × 5 = 35\n",
            "7 × 6 = 42\n",
            "7 × 7 = 49\n",
            "7 × 8 = 56\n",
            "7 × 9 = 63\n",
            "8 × 1 = 8\n",
            "8 × 2 = 16\n",
            "8 × 3 = 24\n",
            "8 × 4 = 32\n",
            "8 × 5 = 40\n",
            "8 × 6 = 48\n",
            "8 × 7 = 56\n",
            "8 × 8 = 64\n",
            "8 × 9 = 72\n",
            "9 × 1 = 9\n",
            "9 × 2 = 18\n",
            "9 × 3 = 27\n",
            "9 × 4 = 36\n",
            "9 × 5 = 45\n",
            "9 × 6 = 54\n",
            "9 × 7 = 63\n",
            "9 × 8 = 72\n",
            "9 × 9 = 81\n"
          ]
        }
      ]
    },
    {
      "cell_type": "markdown",
      "source": [
        "#5万円で毎月5,080円ずつ減らしていって残高を示す"
      ],
      "metadata": {
        "id": "qE3JozYAZZ61"
      }
    },
    {
      "cell_type": "code",
      "source": [
        "saisho = 50000\n",
        "gengaku = 5080\n",
        "\n",
        "temochi = saisho\n",
        "\n",
        "while temochi > 0:\n",
        "    print(f\"残高: {temochi} 円\")\n",
        "    temochi -= gengaku\n",
        "print()\n"
      ],
      "metadata": {
        "colab": {
          "base_uri": "https://localhost:8080/"
        },
        "id": "x1cfuVTyajgg",
        "outputId": "64907fa2-0da2-48a9-e23f-85974ae99ec2"
      },
      "execution_count": null,
      "outputs": [
        {
          "output_type": "stream",
          "name": "stdout",
          "text": [
            "残高: 50000 円\n",
            "残高: 44920 円\n",
            "残高: 39840 円\n",
            "残高: 34760 円\n",
            "残高: 29680 円\n",
            "残高: 24600 円\n",
            "残高: 19520 円\n",
            "残高: 14440 円\n",
            "残高: 9360 円\n",
            "残高: 4280 円\n",
            "残高なし\n"
          ]
        }
      ]
    }
  ]
}