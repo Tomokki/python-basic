{
  "nbformat": 4,
  "nbformat_minor": 0,
  "metadata": {
    "colab": {
      "provenance": [],
      "toc_visible": true,
      "authorship_tag": "ABX9TyOPWbSoIecgmHgsPkZT6sAi",
      "include_colab_link": true
    },
    "kernelspec": {
      "name": "python3",
      "display_name": "Python 3"
    },
    "language_info": {
      "name": "python"
    }
  },
  "cells": [
    {
      "cell_type": "markdown",
      "metadata": {
        "id": "view-in-github",
        "colab_type": "text"
      },
      "source": [
        "<a href=\"https://colab.research.google.com/github/Tomokki/python-basic/blob/main/9%E6%9C%8810%E6%97%A5Lesson.ipynb\" target=\"_parent\"><img src=\"https://colab.research.google.com/assets/colab-badge.svg\" alt=\"Open In Colab\"/></a>"
      ]
    },
    {
      "cell_type": "code",
      "execution_count": 7,
      "metadata": {
        "colab": {
          "base_uri": "https://localhost:8080/",
          "height": 36
        },
        "id": "Jx8GGrVU9IMt",
        "outputId": "37d33a9c-95fb-4e06-e27a-6ce620be07f8"
      },
      "outputs": [
        {
          "output_type": "execute_result",
          "data": {
            "text/plain": [
              "'Hello'"
            ],
            "application/vnd.google.colaboratory.intrinsic+json": {
              "type": "string"
            }
          },
          "metadata": {},
          "execution_count": 7
        }
      ],
      "source": [
        " a = {'key1':10, 'key2':\"Hello\"}\n",
        " a['key2']"
      ]
    },
    {
      "cell_type": "markdown",
      "source": [
        "#nameに山本、billに4000、chargeにTrueを格納した辞書data1を作成\n",
        "#山本を表示"
      ],
      "metadata": {
        "id": "IbJF5nsJGqvx"
      }
    },
    {
      "cell_type": "code",
      "source": [
        "data1 = {'name':\"山本\", 'bill':4000, 'charge':\"True\"}\n",
        "\n",
        "data1['name']"
      ],
      "metadata": {
        "colab": {
          "base_uri": "https://localhost:8080/",
          "height": 36
        },
        "id": "2r7fq284GcUF",
        "outputId": "982af0ee-9e5c-4532-fa96-f569ec47b919"
      },
      "execution_count": 9,
      "outputs": [
        {
          "output_type": "execute_result",
          "data": {
            "text/plain": [
              "'山本'"
            ],
            "application/vnd.google.colaboratory.intrinsic+json": {
              "type": "string"
            }
          },
          "metadata": {},
          "execution_count": 9
        }
      ]
    },
    {
      "cell_type": "markdown",
      "source": [
        "#nameに吉田、billに50000、chargeにFalseを格納した辞書data2を作成\n",
        "#50000を表示"
      ],
      "metadata": {
        "id": "3BEQrBSAIYjZ"
      }
    },
    {
      "cell_type": "code",
      "source": [
        "data2 = {'name':\"吉田\", 'bill':50000, 'charge':\"False\"}\n",
        "\n",
        "data2['bill']"
      ],
      "metadata": {
        "colab": {
          "base_uri": "https://localhost:8080/"
        },
        "id": "XEFsPL0DIjnk",
        "outputId": "eaca2957-49be-43c4-dcf9-b1c2d5f02be8"
      },
      "execution_count": 10,
      "outputs": [
        {
          "output_type": "execute_result",
          "data": {
            "text/plain": [
              "50000"
            ]
          },
          "metadata": {},
          "execution_count": 10
        }
      ]
    },
    {
      "cell_type": "markdown",
      "source": [
        "#data1とdata2を要素としたリストdata_listを作成"
      ],
      "metadata": {
        "id": "m8nj1KbXI5uh"
      }
    },
    {
      "cell_type": "code",
      "source": [
        "data_list = [data1,data2]\n",
        "\n",
        "print(data_list[0][\"name\"])\n",
        "print(data_list[1][\"name\"])"
      ],
      "metadata": {
        "colab": {
          "base_uri": "https://localhost:8080/"
        },
        "id": "jJIyMVbNJO2f",
        "outputId": "2c5a3911-435b-4e64-c0e4-5ed19b46ae94"
      },
      "execution_count": 17,
      "outputs": [
        {
          "output_type": "stream",
          "name": "stdout",
          "text": [
            "山本\n",
            "吉田\n"
          ]
        }
      ]
    },
    {
      "cell_type": "markdown",
      "source": [
        "#for文を用いてdata1とdata2のbillを合計して表示"
      ],
      "metadata": {
        "id": "hceSCDyjK9qW"
      }
    },
    {
      "cell_type": "code",
      "source": [
        "data_list = [data1,data2]\n",
        "\n",
        "for d in data_list:\n",
        "  print(d)"
      ],
      "metadata": {
        "colab": {
          "base_uri": "https://localhost:8080/"
        },
        "id": "tDeANsJiKMf4",
        "outputId": "d107ddfb-1f8a-4644-dd16-08110cb3907d"
      },
      "execution_count": 18,
      "outputs": [
        {
          "output_type": "stream",
          "name": "stdout",
          "text": [
            "{'name': '山本', 'bill': 4000, 'charge': 'True'}\n",
            "{'name': '吉田', 'bill': 50000, 'charge': 'False'}\n"
          ]
        }
      ]
    },
    {
      "cell_type": "code",
      "source": [
        "data_list[0][\"bill\"] + data_list[1][\"bill\"]"
      ],
      "metadata": {
        "colab": {
          "base_uri": "https://localhost:8080/"
        },
        "id": "Sx8y9TXcMtEK",
        "outputId": "e568b9ae-0e87-4867-ff1a-65ee819a36ad"
      },
      "execution_count": 19,
      "outputs": [
        {
          "output_type": "execute_result",
          "data": {
            "text/plain": [
              "54000"
            ]
          },
          "metadata": {},
          "execution_count": 19
        }
      ]
    },
    {
      "cell_type": "code",
      "source": [
        "data_list = [data1,data2]\n",
        "\n",
        "goukei = 0\n",
        "\n",
        "for d in data_list:\n",
        "  goukei += d[\"bill\"]\n",
        "\n",
        "print(goukei)"
      ],
      "metadata": {
        "colab": {
          "base_uri": "https://localhost:8080/"
        },
        "id": "MhQ93WXKNdVi",
        "outputId": "656d4cca-8ac8-4a74-f5e7-2a553c8d2ffe"
      },
      "execution_count": 31,
      "outputs": [
        {
          "output_type": "stream",
          "name": "stdout",
          "text": [
            "54000\n"
          ]
        }
      ]
    }
  ]
}