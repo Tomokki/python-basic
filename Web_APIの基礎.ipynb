{
  "nbformat": 4,
  "nbformat_minor": 0,
  "metadata": {
    "colab": {
      "provenance": [],
      "authorship_tag": "ABX9TyNgVXmnPkUljPSLoUtjusK1",
      "include_colab_link": true
    },
    "kernelspec": {
      "name": "python3",
      "display_name": "Python 3"
    },
    "language_info": {
      "name": "python"
    }
  },
  "cells": [
    {
      "cell_type": "markdown",
      "metadata": {
        "id": "view-in-github",
        "colab_type": "text"
      },
      "source": [
        "<a href=\"https://colab.research.google.com/github/Tomokki/python-basic/blob/main/Web_API%E3%81%AE%E5%9F%BA%E7%A4%8E.ipynb\" target=\"_parent\"><img src=\"https://colab.research.google.com/assets/colab-badge.svg\" alt=\"Open In Colab\"/></a>"
      ]
    },
    {
      "cell_type": "markdown",
      "source": [
        "#5章 Web APIの基礎を学ぼう"
      ],
      "metadata": {
        "id": "lrHaEg1cG27z"
      }
    },
    {
      "cell_type": "markdown",
      "source": [
        "##Web APIを呼び出し、データ取得\n",
        "#### Requestsを使って、Pythonスクリプトから\n",
        "  Web APIを呼び出し、データ取得\n",
        "#### Web APIのモック（テスト用の仮想的なAPI）\n",
        "  →「HTTPBin（https://httpbin.org）」を使用"
      ],
      "metadata": {
        "id": "TejDwNfKFaOB"
      }
    },
    {
      "cell_type": "code",
      "execution_count": null,
      "metadata": {
        "colab": {
          "base_uri": "https://localhost:8080/"
        },
        "id": "Py6SwCZ9DvSI",
        "outputId": "4bf20161-7236-40f9-f31c-899ed208c0c3"
      },
      "outputs": [
        {
          "output_type": "stream",
          "name": "stdout",
          "text": [
            "{'args': {'key': 'value'},\n",
            " 'headers': {'Accept': '*/*',\n",
            "             'Accept-Encoding': 'gzip, deflate',\n",
            "             'Host': 'httpbin.org',\n",
            "             'User-Agent': 'python-requests/2.31.0',\n",
            "             'X-Amzn-Trace-Id': 'Root=1-6537e75b-5a6b15475bb48dda426cc785'},\n",
            " 'origin': '35.231.206.121',\n",
            " 'url': 'https://httpbin.org/get?key=value'}\n"
          ]
        }
      ],
      "source": [
        "import requests\n",
        "import pprint\n",
        "\n",
        "response = requests.get('https://httpbin.org/get',params={'key':'value'})\n",
        "pprint.pprint(response.json())"
      ]
    },
    {
      "cell_type": "markdown",
      "source": [
        "### JSON呼び出し完了"
      ],
      "metadata": {
        "id": "Pxkma9FuGJCi"
      }
    },
    {
      "cell_type": "markdown",
      "source": [
        "#6章 Web APIを利用してデータを取得しよう"
      ],
      "metadata": {
        "id": "eyxmTMW4GtI9"
      }
    },
    {
      "cell_type": "markdown",
      "source": [
        "##必要なライブラリをインストール"
      ],
      "metadata": {
        "id": "QSYSYHsTHYHl"
      }
    },
    {
      "cell_type": "code",
      "source": [
        "!pip install requests"
      ],
      "metadata": {
        "colab": {
          "base_uri": "https://localhost:8080/"
        },
        "id": "UsSTmzGlGNmM",
        "outputId": "214776d7-658a-4451-f05a-362cd17a763f"
      },
      "execution_count": null,
      "outputs": [
        {
          "output_type": "stream",
          "name": "stdout",
          "text": [
            "Requirement already satisfied: requests in /usr/local/lib/python3.10/dist-packages (2.31.0)\n",
            "Requirement already satisfied: charset-normalizer<4,>=2 in /usr/local/lib/python3.10/dist-packages (from requests) (3.3.0)\n",
            "Requirement already satisfied: idna<4,>=2.5 in /usr/local/lib/python3.10/dist-packages (from requests) (3.4)\n",
            "Requirement already satisfied: urllib3<3,>=1.21.1 in /usr/local/lib/python3.10/dist-packages (from requests) (2.0.7)\n",
            "Requirement already satisfied: certifi>=2017.4.17 in /usr/local/lib/python3.10/dist-packages (from requests) (2023.7.22)\n"
          ]
        }
      ]
    },
    {
      "cell_type": "markdown",
      "source": [
        "##動画のタイトルとURLを取得する"
      ],
      "metadata": {
        "id": "cQ3ZjyFQJbIG"
      }
    },
    {
      "cell_type": "code",
      "source": [
        "import requests\n",
        "import pprint\n",
        "from getpass import getpass"
      ],
      "metadata": {
        "id": "_q-Lbm8gJXxi"
      },
      "execution_count": null,
      "outputs": []
    },
    {
      "cell_type": "code",
      "source": [
        "#APIキーを指定\n",
        "api_key = getpass('APIキーを入力してください')"
      ],
      "metadata": {
        "colab": {
          "base_uri": "https://localhost:8080/"
        },
        "id": "NvrLETbZJpW9",
        "outputId": "513b5e40-ad5d-4f55-85b6-ba82f448a1ae"
      },
      "execution_count": null,
      "outputs": [
        {
          "name": "stdout",
          "output_type": "stream",
          "text": [
            "APIキーを入力してください··········\n"
          ]
        }
      ]
    },
    {
      "cell_type": "code",
      "source": [
        "#検索キーワードを変数search_wordに格納\n",
        "search_word = input('検索キーワードを入力してください')"
      ],
      "metadata": {
        "colab": {
          "base_uri": "https://localhost:8080/"
        },
        "id": "NBW3T4yTKcAq",
        "outputId": "11a9b1c8-7a1c-47cd-b16e-cafca9425c5b"
      },
      "execution_count": null,
      "outputs": [
        {
          "name": "stdout",
          "output_type": "stream",
          "text": [
            "検索キーワードを入力してくださいpython\n"
          ]
        }
      ]
    },
    {
      "cell_type": "markdown",
      "source": [
        "##GETメソッドでWeb APIであるYoutube Data APIからデータを取得"
      ],
      "metadata": {
        "id": "bhpTeXCbK3__"
      }
    },
    {
      "cell_type": "code",
      "source": [
        "# YouTube Data APIのURL（動画検索用）\n",
        "url = 'https://www.googleapis.com/youtube/v3/search'\n",
        "\n",
        "# データを取得\n",
        "response = requests.get(\n",
        "    url,\n",
        "    params={\n",
        "        'key':api_key,#APIキーをパラメータに追加\n",
        "        'part':'snippet',#動画情報の詳細を指定\n",
        "        'q':search_word,#検索キーワードをパラメータに追加\n",
        "        'type':'video',#動画のみを検索対象に指定\n",
        "        'maxResults':10 #取得する動画の最大数を指定\n",
        "    }\n",
        ")"
      ],
      "metadata": {
        "id": "vGj9KVS6K6GS"
      },
      "execution_count": null,
      "outputs": []
    },
    {
      "cell_type": "code",
      "source": [
        "# レスポンスのJSONを取得\n",
        "json_data =response.json()\n",
        "\n",
        "# JSONの中身を確認\n",
        "pprint.pprint(json_data)"
      ],
      "metadata": {
        "colab": {
          "base_uri": "https://localhost:8080/"
        },
        "id": "YNrrPne_MXrd",
        "outputId": "15012b2b-973f-456f-99b2-1b9ca22e93ba"
      },
      "execution_count": null,
      "outputs": [
        {
          "output_type": "stream",
          "name": "stdout",
          "text": [
            "{'error': {'code': 403,\n",
            "           'details': [{'@type': 'type.googleapis.com/google.rpc.Help',\n",
            "                        'links': [{'description': 'Google developers console '\n",
            "                                                  'API activation',\n",
            "                                   'url': 'https://console.developers.google.com/apis/api/youtube.googleapis.com/overview?project=900920636097'}]},\n",
            "                       {'@type': 'type.googleapis.com/google.rpc.ErrorInfo',\n",
            "                        'domain': 'googleapis.com',\n",
            "                        'metadata': {'consumer': 'projects/900920636097',\n",
            "                                     'service': 'youtube.googleapis.com'},\n",
            "                        'reason': 'SERVICE_DISABLED'}],\n",
            "           'errors': [{'domain': 'usageLimits',\n",
            "                       'extendedHelp': 'https://console.developers.google.com',\n",
            "                       'message': 'YouTube Data API v3 has not been used in '\n",
            "                                  'project 900920636097 before or it is '\n",
            "                                  'disabled. Enable it by visiting '\n",
            "                                  'https://console.developers.google.com/apis/api/youtube.googleapis.com/overview?project=900920636097 '\n",
            "                                  'then retry. If you enabled this API '\n",
            "                                  'recently, wait a few minutes for the action '\n",
            "                                  'to propagate to our systems and retry.',\n",
            "                       'reason': 'accessNotConfigured'}],\n",
            "           'message': 'YouTube Data API v3 has not been used in project '\n",
            "                      '900920636097 before or it is disabled. Enable it by '\n",
            "                      'visiting '\n",
            "                      'https://console.developers.google.com/apis/api/youtube.googleapis.com/overview?project=900920636097 '\n",
            "                      'then retry. If you enabled this API recently, wait a '\n",
            "                      'few minutes for the action to propagate to our systems '\n",
            "                      'and retry.',\n",
            "           'status': 'PERMISSION_DENIED'}}\n"
          ]
        }
      ]
    },
    {
      "cell_type": "code",
      "source": [
        "#取得した動画のタイトルをURLを表示\n",
        "for item in json_data['items']:\n",
        "  video_title = item['snippet']['title']\n",
        "  video_url = f'https://www.youtube.com/watch?v={item[\"id\"][\"videoId\"]}'\n",
        "  print(f'{video_title};{video_url}')"
      ],
      "metadata": {
        "colab": {
          "base_uri": "https://localhost:8080/",
          "height": 257
        },
        "id": "4A5F18fUNF_c",
        "outputId": "85031f4e-7355-4a54-d6ca-56829cdd81e6"
      },
      "execution_count": null,
      "outputs": [
        {
          "output_type": "error",
          "ename": "KeyError",
          "evalue": "ignored",
          "traceback": [
            "\u001b[0;31m---------------------------------------------------------------------------\u001b[0m",
            "\u001b[0;31mKeyError\u001b[0m                                  Traceback (most recent call last)",
            "\u001b[0;32m<ipython-input-10-cd0150b9cdc8>\u001b[0m in \u001b[0;36m<cell line: 2>\u001b[0;34m()\u001b[0m\n\u001b[1;32m      1\u001b[0m \u001b[0;31m#取得した動画のタイトルをURLを表示\u001b[0m\u001b[0;34m\u001b[0m\u001b[0;34m\u001b[0m\u001b[0m\n\u001b[0;32m----> 2\u001b[0;31m \u001b[0;32mfor\u001b[0m \u001b[0mitem\u001b[0m \u001b[0;32min\u001b[0m \u001b[0mjson_data\u001b[0m\u001b[0;34m[\u001b[0m\u001b[0;34m'items'\u001b[0m\u001b[0;34m]\u001b[0m\u001b[0;34m:\u001b[0m\u001b[0;34m\u001b[0m\u001b[0;34m\u001b[0m\u001b[0m\n\u001b[0m\u001b[1;32m      3\u001b[0m   \u001b[0mvideo_title\u001b[0m \u001b[0;34m=\u001b[0m \u001b[0mitem\u001b[0m\u001b[0;34m[\u001b[0m\u001b[0;34m'snippet'\u001b[0m\u001b[0;34m]\u001b[0m\u001b[0;34m[\u001b[0m\u001b[0;34m'title'\u001b[0m\u001b[0;34m]\u001b[0m\u001b[0;34m\u001b[0m\u001b[0;34m\u001b[0m\u001b[0m\n\u001b[1;32m      4\u001b[0m   \u001b[0mvideo_url\u001b[0m \u001b[0;34m=\u001b[0m \u001b[0;34mf'https://www.youtube.com/watch?v={item[\"id\"][\"videoId\"]}'\u001b[0m\u001b[0;34m\u001b[0m\u001b[0;34m\u001b[0m\u001b[0m\n\u001b[1;32m      5\u001b[0m   \u001b[0mprint\u001b[0m\u001b[0;34m(\u001b[0m\u001b[0;34mf'{video_title};{video_url}'\u001b[0m\u001b[0;34m)\u001b[0m\u001b[0;34m\u001b[0m\u001b[0;34m\u001b[0m\u001b[0m\n",
            "\u001b[0;31mKeyError\u001b[0m: 'items'"
          ]
        }
      ]
    },
    {
      "cell_type": "markdown",
      "source": [
        "# 7章 Seleniumの基礎を学ぼう\n",
        "  Selenium（セレニウム）は、ブラウザの操作の自動化を行うためのライブラリ"
      ],
      "metadata": {
        "id": "r_uL2ujaOae0"
      }
    },
    {
      "cell_type": "markdown",
      "source": [
        "#Seleniumの使用準備"
      ],
      "metadata": {
        "id": "0uD3dcQ0SN4H"
      }
    },
    {
      "cell_type": "markdown",
      "source": [
        "###Seleniumをインストール"
      ],
      "metadata": {
        "id": "sa0zo7VSPVxE"
      }
    },
    {
      "cell_type": "code",
      "source": [],
      "metadata": {
        "id": "g7Qegd-pY9kD"
      },
      "execution_count": null,
      "outputs": []
    },
    {
      "cell_type": "code",
      "source": [
        "# Seleniumをインストール\n",
        "!pip install Selenium"
      ],
      "metadata": {
        "id": "yzWjU17TOEo8"
      },
      "execution_count": null,
      "outputs": []
    },
    {
      "cell_type": "markdown",
      "source": [
        "###1. Seleniumライブラリからwebdriverモジュールをインポートする"
      ],
      "metadata": {
        "id": "ofnlrMoNPdnF"
      }
    },
    {
      "cell_type": "code",
      "source": [
        "#Seleniumライブラリからwebdriverモジュールをインポート\n",
        "from selenium import webdriver"
      ],
      "metadata": {
        "id": "4AsWHuy7O7Zz"
      },
      "execution_count": null,
      "outputs": []
    },
    {
      "cell_type": "markdown",
      "source": [
        "###2. ブラウザ起動オプションを指定する"
      ],
      "metadata": {
        "id": "Ubupl6jQQFin"
      }
    },
    {
      "cell_type": "markdown",
      "source": [
        "####Chromeブラウザ起動オプションを指定"
      ],
      "metadata": {
        "id": "tpxtAkA2QXpI"
      }
    },
    {
      "cell_type": "code",
      "source": [
        "chrome_options = webdriver.ChromeOptions()\n",
        "chrome_options.add_argument('--headless')\n",
        "chrome_options.add_argument('--no-sandbox')\n",
        "chrome_options.add_argument('--disable-dev-shm-usage')"
      ],
      "metadata": {
        "id": "be7M8EJyQCzw"
      },
      "execution_count": null,
      "outputs": []
    },
    {
      "cell_type": "markdown",
      "source": [
        "###3. ブラウザドライバーのインスタンスを作成"
      ],
      "metadata": {
        "id": "YgRRJF5RRLsa"
      }
    },
    {
      "cell_type": "markdown",
      "source": [
        "####インスタンスを作成し変数chrome_driverに格納"
      ],
      "metadata": {
        "id": "TaFO5UOfRlJ7"
      }
    },
    {
      "cell_type": "code",
      "source": [
        "chrome_driver = webdriver.Chrome(options=chrome_options)"
      ],
      "metadata": {
        "id": "xQOKEsw-RIIm"
      },
      "execution_count": null,
      "outputs": []
    },
    {
      "cell_type": "code",
      "source": [],
      "metadata": {
        "id": "XixnNQhOZaLk"
      },
      "execution_count": null,
      "outputs": []
    },
    {
      "cell_type": "markdown",
      "source": [
        "###4. メソッドを使うときは「変数名.メソッド名()」"
      ],
      "metadata": {
        "id": "YdGA-odkRwBV"
      }
    },
    {
      "cell_type": "code",
      "source": [
        "# 4. メソッドを使うときは「変数名.メソッド名()」と書く\n",
        "# chrome_driver.メソッド()"
      ],
      "metadata": {
        "id": "mooJiiccRbSX"
      },
      "execution_count": null,
      "outputs": []
    },
    {
      "cell_type": "markdown",
      "source": [
        "#Seleniumを使用したブラウザ基本操作"
      ],
      "metadata": {
        "id": "rl2sTYnjSX2o"
      }
    },
    {
      "cell_type": "markdown",
      "source": [
        "###1. 必要なライブラリをインポートして、Chromeブラウザを開く"
      ],
      "metadata": {
        "id": "P-gj9AcZSe2z"
      }
    },
    {
      "cell_type": "code",
      "source": [
        "from selenium import webdriver\n",
        "\n",
        "chrome_options = webdriver.ChromeOptions()\n",
        "chrome_options.add_argument('--headless')\n",
        "chrome_options.add_argument('--no-sandbox')\n",
        "chrome_options.add_argument('--disable-dev-shm-usage')"
      ],
      "metadata": {
        "id": "VeTrPLAPSjlu"
      },
      "execution_count": null,
      "outputs": []
    },
    {
      "cell_type": "markdown",
      "source": [
        "###2. WebDriverインスタンスを作成"
      ],
      "metadata": {
        "id": "IF851hAUTO8h"
      }
    },
    {
      "cell_type": "code",
      "source": [
        "chrome_driver =webdriver.Chrome(options=chrome_options)"
      ],
      "metadata": {
        "id": "uK4rcGE4TMXu"
      },
      "execution_count": null,
      "outputs": []
    },
    {
      "cell_type": "markdown",
      "source": [
        "####Seleniumを使って指定したURLに遷移する方法"
      ],
      "metadata": {
        "id": "rS0zWog8TkJU"
      }
    },
    {
      "cell_type": "code",
      "source": [
        "#Googlleトップページを開く\n",
        "chrome_driver.get('https://www.google.com')"
      ],
      "metadata": {
        "id": "r1LEfRe3TnC5"
      },
      "execution_count": null,
      "outputs": []
    },
    {
      "cell_type": "code",
      "source": [
        "#Yahoo!トップページを開く\n",
        "chrome_driver.get('https://www.yahoo.com')"
      ],
      "metadata": {
        "id": "H9x4yg8IT1qa"
      },
      "execution_count": null,
      "outputs": []
    },
    {
      "cell_type": "markdown",
      "source": [
        "####ブラウザ操作"
      ],
      "metadata": {
        "id": "A5eXzy5sUS3M"
      }
    },
    {
      "cell_type": "code",
      "source": [
        "# ブラウザで“進む”操作\n",
        "chrome_driver.forward()\n",
        "# ブラウザで“戻る”操作\n",
        "chrome_driver.back()\n",
        "# ブラウザを閉じる\n",
        "chrome_driver.quit()"
      ],
      "metadata": {
        "id": "LDmgJwyuUWGv"
      },
      "execution_count": null,
      "outputs": []
    },
    {
      "cell_type": "markdown",
      "source": [
        "###Seleniumを使ったHTML要素の基本操作\n",
        "　　Commonモジュールを配下"
      ],
      "metadata": {
        "id": "ZT5GAo8lV_aJ"
      }
    },
    {
      "cell_type": "code",
      "source": [
        "from selenium import webdriver\n",
        "from selenium.webdriver.common.by import By"
      ],
      "metadata": {
        "id": "VwjgTZcDWGb9"
      },
      "execution_count": null,
      "outputs": []
    },
    {
      "cell_type": "code",
      "source": [],
      "metadata": {
        "id": "rdG2IEZrWhH_"
      },
      "execution_count": null,
      "outputs": []
    }
  ]
}