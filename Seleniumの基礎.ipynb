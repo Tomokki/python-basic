{
  "nbformat": 4,
  "nbformat_minor": 0,
  "metadata": {
    "colab": {
      "provenance": [],
      "authorship_tag": "ABX9TyMM+fHk+p6lVc/DdwcYVcrc",
      "include_colab_link": true
    },
    "kernelspec": {
      "name": "python3",
      "display_name": "Python 3"
    },
    "language_info": {
      "name": "python"
    }
  },
  "cells": [
    {
      "cell_type": "markdown",
      "metadata": {
        "id": "view-in-github",
        "colab_type": "text"
      },
      "source": [
        "<a href=\"https://colab.research.google.com/github/Tomokki/python-basic/blob/main/Selenium%E3%81%AE%E5%9F%BA%E7%A4%8E.ipynb\" target=\"_parent\"><img src=\"https://colab.research.google.com/assets/colab-badge.svg\" alt=\"Open In Colab\"/></a>"
      ]
    },
    {
      "cell_type": "markdown",
      "source": [
        "# 7章 Seleniumの基礎を学ぼう\n",
        "  Selenium（セレニウム）は、ブラウザの操作の自動化を行うためのライブラリ"
      ],
      "metadata": {
        "id": "hJ-kJeZDYvtV"
      }
    },
    {
      "cell_type": "markdown",
      "source": [
        "#Seleniumの使用準備"
      ],
      "metadata": {
        "id": "VGy7QMruZBx7"
      }
    },
    {
      "cell_type": "markdown",
      "source": [
        "###Seleniumをインストール"
      ],
      "metadata": {
        "id": "BCnBqq3ZZFkm"
      }
    },
    {
      "cell_type": "code",
      "execution_count": null,
      "metadata": {
        "colab": {
          "base_uri": "https://localhost:8080/"
        },
        "id": "gTFrUzq9YT0E",
        "outputId": "64a79d08-0a67-425b-e18c-9857b0ebf79d"
      },
      "outputs": [
        {
          "output_type": "stream",
          "name": "stdout",
          "text": [
            "Collecting Selenium\n",
            "  Downloading selenium-4.14.0-py3-none-any.whl (9.9 MB)\n",
            "\u001b[2K     \u001b[90m━━━━━━━━━━━━━━━━━━━━━━━━━━━━━━━━━━━━━━━━\u001b[0m \u001b[32m9.9/9.9 MB\u001b[0m \u001b[31m39.4 MB/s\u001b[0m eta \u001b[36m0:00:00\u001b[0m\n",
            "\u001b[?25hRequirement already satisfied: urllib3[socks]<3,>=1.26 in /usr/local/lib/python3.10/dist-packages (from Selenium) (2.0.7)\n",
            "Collecting trio~=0.17 (from Selenium)\n",
            "  Downloading trio-0.22.2-py3-none-any.whl (400 kB)\n",
            "\u001b[2K     \u001b[90m━━━━━━━━━━━━━━━━━━━━━━━━━━━━━━━━━━━━━━━━\u001b[0m \u001b[32m400.2/400.2 kB\u001b[0m \u001b[31m37.3 MB/s\u001b[0m eta \u001b[36m0:00:00\u001b[0m\n",
            "\u001b[?25hCollecting trio-websocket~=0.9 (from Selenium)\n",
            "  Downloading trio_websocket-0.11.1-py3-none-any.whl (17 kB)\n",
            "Requirement already satisfied: certifi>=2021.10.8 in /usr/local/lib/python3.10/dist-packages (from Selenium) (2023.7.22)\n",
            "Requirement already satisfied: attrs>=20.1.0 in /usr/local/lib/python3.10/dist-packages (from trio~=0.17->Selenium) (23.1.0)\n",
            "Requirement already satisfied: sortedcontainers in /usr/local/lib/python3.10/dist-packages (from trio~=0.17->Selenium) (2.4.0)\n",
            "Requirement already satisfied: idna in /usr/local/lib/python3.10/dist-packages (from trio~=0.17->Selenium) (3.4)\n",
            "Collecting outcome (from trio~=0.17->Selenium)\n",
            "  Downloading outcome-1.3.0-py2.py3-none-any.whl (10 kB)\n",
            "Requirement already satisfied: sniffio in /usr/local/lib/python3.10/dist-packages (from trio~=0.17->Selenium) (1.3.0)\n",
            "Requirement already satisfied: exceptiongroup>=1.0.0rc9 in /usr/local/lib/python3.10/dist-packages (from trio~=0.17->Selenium) (1.1.3)\n",
            "Collecting wsproto>=0.14 (from trio-websocket~=0.9->Selenium)\n",
            "  Downloading wsproto-1.2.0-py3-none-any.whl (24 kB)\n",
            "Requirement already satisfied: pysocks!=1.5.7,<2.0,>=1.5.6 in /usr/local/lib/python3.10/dist-packages (from urllib3[socks]<3,>=1.26->Selenium) (1.7.1)\n",
            "Collecting h11<1,>=0.9.0 (from wsproto>=0.14->trio-websocket~=0.9->Selenium)\n",
            "  Downloading h11-0.14.0-py3-none-any.whl (58 kB)\n",
            "\u001b[2K     \u001b[90m━━━━━━━━━━━━━━━━━━━━━━━━━━━━━━━━━━━━━━━━\u001b[0m \u001b[32m58.3/58.3 kB\u001b[0m \u001b[31m7.7 MB/s\u001b[0m eta \u001b[36m0:00:00\u001b[0m\n",
            "\u001b[?25hInstalling collected packages: outcome, h11, wsproto, trio, trio-websocket, Selenium\n",
            "Successfully installed Selenium-4.14.0 h11-0.14.0 outcome-1.3.0 trio-0.22.2 trio-websocket-0.11.1 wsproto-1.2.0\n"
          ]
        }
      ],
      "source": [
        "# Seleniumをインストール\n",
        "!pip install Selenium"
      ]
    },
    {
      "cell_type": "markdown",
      "source": [
        "###1. Seleniumライブラリからwebdriverモジュールをインポートする"
      ],
      "metadata": {
        "id": "5XWFwXHBZLgW"
      }
    },
    {
      "cell_type": "code",
      "source": [
        "#Seleniumライブラリからwebdriverモジュールをインポート\n",
        "from selenium import webdriver"
      ],
      "metadata": {
        "id": "WigDDshQZMkQ"
      },
      "execution_count": null,
      "outputs": []
    },
    {
      "cell_type": "markdown",
      "source": [
        "###2. ブラウザ起動オプションを指定する"
      ],
      "metadata": {
        "id": "bH8BU5qyZPCx"
      }
    },
    {
      "cell_type": "markdown",
      "source": [
        "####Chromeブラウザ起動オプションを指定"
      ],
      "metadata": {
        "id": "JuJ3weB5ZRyY"
      }
    },
    {
      "cell_type": "code",
      "source": [
        "chrome_options = webdriver.ChromeOptions()\n",
        "chrome_options.add_argument('--headless')\n",
        "chrome_options.add_argument('--no-sandbox')\n",
        "chrome_options.add_argument('--disable-dev-shm-usage')"
      ],
      "metadata": {
        "id": "S6A2ojFjZUx0"
      },
      "execution_count": null,
      "outputs": []
    },
    {
      "cell_type": "markdown",
      "source": [
        "###3. ブラウザドライバーのインスタンスを作成"
      ],
      "metadata": {
        "id": "t9llZQqtZYso"
      }
    },
    {
      "cell_type": "markdown",
      "source": [
        "####インスタンスを作成し変数chrome_driverに格納"
      ],
      "metadata": {
        "id": "HoEcV7ecZZrM"
      }
    },
    {
      "cell_type": "code",
      "source": [
        "chrome_driver = webdriver.Chrome(options=chrome_options)"
      ],
      "metadata": {
        "id": "C_xi2abjZeZs"
      },
      "execution_count": null,
      "outputs": []
    },
    {
      "cell_type": "markdown",
      "source": [
        "###4. メソッドを使うときは「変数名.メソッド名()」"
      ],
      "metadata": {
        "id": "FPbkOSGAZe79"
      }
    },
    {
      "cell_type": "code",
      "source": [
        "# 4. メソッドを使うときは「変数名.メソッド名()」と書く\n",
        "# chrome_driver.メソッド()"
      ],
      "metadata": {
        "id": "3Nkb1AJIZr3w"
      },
      "execution_count": null,
      "outputs": []
    },
    {
      "cell_type": "markdown",
      "source": [
        "#Seleniumを使用したブラウザ基本操作"
      ],
      "metadata": {
        "id": "zCqAxrhxZuRc"
      }
    },
    {
      "cell_type": "markdown",
      "source": [
        "###1. 必要なライブラリをインポートして、Chromeブラウザを開く"
      ],
      "metadata": {
        "id": "W2GSpvR7ZxOS"
      }
    },
    {
      "cell_type": "code",
      "source": [
        "from selenium import webdriver\n",
        "\n",
        "chrome_options = webdriver.ChromeOptions()\n",
        "chrome_options.add_argument('--headless')\n",
        "chrome_options.add_argument('--no-sandbox')\n",
        "chrome_options.add_argument('--disable-dev-shm-usage')"
      ],
      "metadata": {
        "id": "PawKUyb8Z0D2"
      },
      "execution_count": null,
      "outputs": []
    },
    {
      "cell_type": "markdown",
      "source": [
        "###2. WebDriverインスタンスを作成"
      ],
      "metadata": {
        "id": "paPGkQWGZ2du"
      }
    },
    {
      "cell_type": "code",
      "source": [
        "chrome_driver =webdriver.Chrome(options=chrome_options)"
      ],
      "metadata": {
        "id": "P8EYPs7xZ9pr"
      },
      "execution_count": null,
      "outputs": []
    },
    {
      "cell_type": "markdown",
      "source": [
        "####Seleniumを使って指定したURLに遷移する方法"
      ],
      "metadata": {
        "id": "kXj7f6c8Z-az"
      }
    },
    {
      "cell_type": "code",
      "source": [
        "#Googlleトップページを開く\n",
        "chrome_driver.get('https://www.google.com')\n",
        "#Yahoo!トップページを開く\n",
        "chrome_driver.get('https://www.yahoo.com')"
      ],
      "metadata": {
        "id": "Z1fIM5ZAaBse"
      },
      "execution_count": null,
      "outputs": []
    },
    {
      "cell_type": "markdown",
      "source": [
        "####ブラウザ操作"
      ],
      "metadata": {
        "id": "V65h2ZCZaGJs"
      }
    },
    {
      "cell_type": "code",
      "source": [
        "# ブラウザで“進む”操作\n",
        "chrome_driver.forward()\n",
        "# ブラウザで“戻る”操作\n",
        "chrome_driver.back()\n",
        "# ブラウザを閉じる\n",
        "chrome_driver.quit()"
      ],
      "metadata": {
        "id": "OBJCNDShaJHp"
      },
      "execution_count": null,
      "outputs": []
    },
    {
      "cell_type": "markdown",
      "source": [
        "###Seleniumを使ったHTML要素の基本操作\n",
        "　　Commonモジュールを配下"
      ],
      "metadata": {
        "id": "QDVcFhzhaMrc"
      }
    },
    {
      "cell_type": "code",
      "source": [
        "from selenium import webdriver\n",
        "from selenium.webdriver.common.by import By"
      ],
      "metadata": {
        "id": "aIqla16-aPRb"
      },
      "execution_count": null,
      "outputs": []
    },
    {
      "cell_type": "code",
      "source": [
        "#'maxlength'属性の値を取得\n",
        "#get_attribute('maxlength')"
      ],
      "metadata": {
        "id": "GRBicEn4rOkW"
      },
      "execution_count": null,
      "outputs": []
    },
    {
      "cell_type": "code",
      "source": [
        "#Seleniumライブラリからwebdriverモジュールをインポート\n",
        "from selenium import webdriver\n",
        "from selenium.webdriver.common.by import By\n",
        "\n",
        "#Chromeブラウザ起動オプションを指定\n",
        "chrome_options = webdriver.ChromeOptions()\n",
        "chrome_options.add_argument('--headless')\n",
        "chrome_options.add_argument('--no-sandbox')\n",
        "chrome_options.add_argument('--disable-dev-shm-usage')\n",
        "\n",
        "#Google Chrome用のブラウザドライバーインスタンスを作成\n",
        "chrome_driver = webdriver.Chrome(options=chrome_options)\n",
        "\n",
        "#Googleのトップページを開く\n",
        "chrome_driver.get('https://www.google.com')\n"
      ],
      "metadata": {
        "id": "IyTmIqAxrcqY"
      },
      "execution_count": null,
      "outputs": []
    },
    {
      "cell_type": "markdown",
      "source": [
        "###HTML要素の検索"
      ],
      "metadata": {
        "id": "_CFdIZo9tVMb"
      }
    },
    {
      "cell_type": "markdown",
      "source": [
        "#####Google検索ボックスの'maxlength'属性を取得"
      ],
      "metadata": {
        "id": "3Nn3kgl7LArp"
      }
    },
    {
      "cell_type": "code",
      "source": [
        "#検索ボックス要素（名前が'q'の要素）を取得\n",
        "search_box = chrome_driver.find_element(By.NAME, 'q')\n",
        "\n",
        "#検索ボックスの'maxlength'属性を取得\n",
        "attribute_value = search_box.get_attribute('maxlength')\n",
        "\n",
        "#属性の値を入力\n",
        "print(f'属性の値:{attribute_value}')\n",
        "\n",
        "#ブラウザを閉じる\n",
        "chrome_driver.quit()"
      ],
      "metadata": {
        "id": "KTG6_i5GtEjn",
        "colab": {
          "base_uri": "https://localhost:8080/"
        },
        "outputId": "1678005f-a7f2-42eb-f2ec-39acf4d219ce"
      },
      "execution_count": null,
      "outputs": [
        {
          "output_type": "stream",
          "name": "stdout",
          "text": [
            "属性の値:2048\n"
          ]
        }
      ]
    },
    {
      "cell_type": "code",
      "source": [],
      "metadata": {
        "id": "sNaXZYnpMZoX"
      },
      "execution_count": null,
      "outputs": []
    }
  ]
}