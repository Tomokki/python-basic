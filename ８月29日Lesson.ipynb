{
  "nbformat": 4,
  "nbformat_minor": 0,
  "metadata": {
    "colab": {
      "provenance": [],
      "authorship_tag": "ABX9TyPjIs272phNkO988qJ/EJ2X",
      "include_colab_link": true
    },
    "kernelspec": {
      "name": "python3",
      "display_name": "Python 3"
    },
    "language_info": {
      "name": "python"
    }
  },
  "cells": [
    {
      "cell_type": "markdown",
      "metadata": {
        "id": "view-in-github",
        "colab_type": "text"
      },
      "source": [
        "<a href=\"https://colab.research.google.com/github/Tomokki/python-basic/blob/main/%EF%BC%98%E6%9C%8829%E6%97%A5Lesson.ipynb\" target=\"_parent\"><img src=\"https://colab.research.google.com/assets/colab-badge.svg\" alt=\"Open In Colab\"/></a>"
      ]
    },
    {
      "cell_type": "code",
      "execution_count": null,
      "metadata": {
        "id": "0hrvTL_Y-bry"
      },
      "outputs": [],
      "source": []
    },
    {
      "cell_type": "markdown",
      "source": [
        "#A～Eの5チームの総当たり対戦表を表示"
      ],
      "metadata": {
        "id": "XminJCxhMTZA"
      }
    },
    {
      "cell_type": "code",
      "source": [
        "team = ['A', 'B', 'C', 'D', 'E']\n",
        "\n",
        "for i in range(len(team)):\n",
        "    for j in range(i + 1, len(team)):\n",
        "        print(f\"{team[i]} vs {team[j]}\")\n"
      ],
      "metadata": {
        "colab": {
          "base_uri": "https://localhost:8080/"
        },
        "id": "MoMu_-GmMe8Y",
        "outputId": "964cb29c-fcd8-4bcc-d39b-e17b8dde189f"
      },
      "execution_count": 5,
      "outputs": [
        {
          "output_type": "stream",
          "name": "stdout",
          "text": [
            "A vs B\n",
            "A vs C\n",
            "A vs D\n",
            "A vs E\n",
            "B vs C\n",
            "B vs D\n",
            "B vs E\n",
            "C vs D\n",
            "C vs E\n",
            "D vs E\n"
          ]
        }
      ]
    },
    {
      "cell_type": "markdown",
      "source": [
        "#こんにちわと表示する関数 say_helloを作成して実行"
      ],
      "metadata": {
        "id": "_-kk583nOsVE"
      }
    },
    {
      "cell_type": "code",
      "source": [
        "def say_hello():\n",
        "    print(\"こんにちわ\")\n",
        "\n",
        "say_hello()\n"
      ],
      "metadata": {
        "colab": {
          "base_uri": "https://localhost:8080/"
        },
        "id": "asp3az4qPA25",
        "outputId": "9bb1a0bf-c89e-4c3e-9de9-f7f03ed4e205"
      },
      "execution_count": 6,
      "outputs": [
        {
          "output_type": "stream",
          "name": "stdout",
          "text": [
            "こんにちわ\n"
          ]
        }
      ]
    },
    {
      "cell_type": "markdown",
      "source": [
        "#「○○さん、こんにちわ」と表示する関数 say_hello2 を作成して実行"
      ],
      "metadata": {
        "id": "VeP0x2jUPSYx"
      }
    },
    {
      "cell_type": "code",
      "source": [
        "def say_hello2(name):\n",
        "    print(f\"{name}さん、こんにちわ\")\n",
        "\n",
        "name = (\"吉田\")\n",
        "say_hello2(name)\n"
      ],
      "metadata": {
        "colab": {
          "base_uri": "https://localhost:8080/"
        },
        "id": "m62R44XgO4oj",
        "outputId": "9b5a8e27-f976-4066-ad34-6d9a3562c8f8"
      },
      "execution_count": 12,
      "outputs": [
        {
          "output_type": "stream",
          "name": "stdout",
          "text": [
            "吉田さん、こんにちわ\n"
          ]
        }
      ]
    },
    {
      "cell_type": "markdown",
      "source": [
        "#リターン値"
      ],
      "metadata": {
        "id": "3clx7NVyQn0S"
      }
    },
    {
      "cell_type": "code",
      "source": [
        "def abc(x):\n",
        "  return x + \"さん\"\n",
        "\n",
        "a = abc(\"吉田\")\n",
        "print(a)"
      ],
      "metadata": {
        "colab": {
          "base_uri": "https://localhost:8080/"
        },
        "id": "vCuzo8NLQut7",
        "outputId": "fa50e075-3a05-4c64-9c37-a6e6d460ac54"
      },
      "execution_count": 15,
      "outputs": [
        {
          "output_type": "stream",
          "name": "stdout",
          "text": [
            "吉田さん\n"
          ]
        }
      ]
    },
    {
      "cell_type": "markdown",
      "source": [
        "#受け取った数値を10倍した値を返す関数jyuubaiを作成して実行"
      ],
      "metadata": {
        "id": "5U093mxRRJlm"
      }
    },
    {
      "cell_type": "code",
      "source": [
        "def jyuubai(x):\n",
        "    return x * 10\n",
        "\n",
        "a= jyuubai(2)\n",
        "print(a)\n"
      ],
      "metadata": {
        "colab": {
          "base_uri": "https://localhost:8080/"
        },
        "id": "5sxTqKItQIai",
        "outputId": "b6586139-d2b7-43ee-dd50-fb3c8ce6a721"
      },
      "execution_count": 16,
      "outputs": [
        {
          "output_type": "stream",
          "name": "stdout",
          "text": [
            "20\n"
          ]
        }
      ]
    },
    {
      "cell_type": "markdown",
      "source": [
        "#ユーザーが入力した数値を10倍jyubai\n",
        "#その値を半径とした円の面積\n",
        "#その値半分にする"
      ],
      "metadata": {
        "id": "JhcS1kdZSClD"
      }
    },
    {
      "cell_type": "code",
      "source": [
        "def jyuubai (x):\n",
        "    return x * 10\n",
        "\n",
        "def enn (y):\n",
        "  return y * y * 3.14\n",
        "\n",
        "def half (z):\n",
        "  return z / 2\n",
        "\n",
        "a = input()\n",
        "\n",
        "result = jyuubai(int(a))\n",
        "print(result)\n",
        "\n",
        "enmenseki = enn(result)\n",
        "print(int(enmenseki))\n",
        "\n",
        "hanbun = half(enmenseki)\n",
        "print(int(hanbun))\n"
      ],
      "metadata": {
        "colab": {
          "base_uri": "https://localhost:8080/"
        },
        "id": "ntT3ukveUZQG",
        "outputId": "39aa1af0-5d8a-4d6f-ca7f-67e792c92b4b"
      },
      "execution_count": 52,
      "outputs": [
        {
          "output_type": "stream",
          "name": "stdout",
          "text": [
            "20\n",
            "200\n",
            "125600\n",
            "62800\n"
          ]
        }
      ]
    }
  ]
}