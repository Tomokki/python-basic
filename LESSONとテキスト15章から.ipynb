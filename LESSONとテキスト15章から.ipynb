{
  "nbformat": 4,
  "nbformat_minor": 0,
  "metadata": {
    "colab": {
      "provenance": [],
      "toc_visible": true,
      "authorship_tag": "ABX9TyPryKkpRbHMF9Gs91/jhNXv",
      "include_colab_link": true
    },
    "kernelspec": {
      "name": "python3",
      "display_name": "Python 3"
    },
    "language_info": {
      "name": "python"
    }
  },
  "cells": [
    {
      "cell_type": "markdown",
      "metadata": {
        "id": "view-in-github",
        "colab_type": "text"
      },
      "source": [
        "<a href=\"https://colab.research.google.com/github/Tomokki/python-basic/blob/main/LESSON%E3%81%A8%E3%83%86%E3%82%AD%E3%82%B9%E3%83%8815%E7%AB%A0%E3%81%8B%E3%82%89.ipynb\" target=\"_parent\"><img src=\"https://colab.research.google.com/assets/colab-badge.svg\" alt=\"Open In Colab\"/></a>"
      ]
    },
    {
      "cell_type": "code",
      "execution_count": null,
      "metadata": {
        "colab": {
          "base_uri": "https://localhost:8080/"
        },
        "id": "XhRJwDQu0qgv",
        "outputId": "f77c671c-6754-48a2-b357-c247b079a924"
      },
      "outputs": [
        {
          "output_type": "stream",
          "name": "stdout",
          "text": [
            "3\n"
          ]
        }
      ],
      "source": [
        "print(1+2)"
      ]
    },
    {
      "cell_type": "code",
      "source": [
        "money = 1000\n",
        "items = {'apple': 100, 'banana': 200, 'orange': 400}\n",
        "for item_name in items:\n",
        "    print('--------------------------------------------------')\n",
        "    print('財布には' + str(money) + '円入っています')\n",
        "    print(item_name + 'は1個' + str(items[item_name]) + '円です')\n",
        "\n",
        "    input_count = input('購入する' + item_name + 'の個数を入力してください：')\n",
        "    print('購入する' + item_name + 'の個数は' + input_count + '個です')\n",
        "\n",
        "    count = int(input_count)\n",
        "    total_price = items[item_name] * count\n",
        "    print('支払い金額は' + str(total_price) + '円です')\n",
        "\n",
        "    if money >= total_price:\n",
        "        print(item_name + 'を' + input_count + '個買いました')\n",
        "        money -= total_price\n",
        "\n",
        "        if money == 0:\n",
        "            print('財布が空になりました')\n",
        "            break\n",
        "    else:\n",
        "        print('お金が足りません')\n",
        "        print(item_name + 'を買えませんでした')\n",
        "print('残金は' + str(money) + '円です')\n"
      ],
      "metadata": {
        "id": "B-O8W4xq1xYJ",
        "outputId": "c1a2c3ee-c1f1-4fe1-f065-392c440d5147",
        "colab": {
          "base_uri": "https://localhost:8080/"
        }
      },
      "execution_count": null,
      "outputs": [
        {
          "output_type": "stream",
          "name": "stdout",
          "text": [
            "--------------------------------------------------\n",
            "財布には1000円入っています\n",
            "appleは1個100円です\n"
          ]
        }
      ]
    },
    {
      "cell_type": "code",
      "source": [
        "age=18\n",
        "if age <20:\n",
        " print(\"ジュースで乾杯！\") #未成年の場合\n",
        "else:\n",
        "  #成年の場合\n",
        "  print(\"お酒で乾杯！\")\n"
      ],
      "metadata": {
        "colab": {
          "base_uri": "https://localhost:8080/"
        },
        "id": "OmebhaOe1FYQ",
        "outputId": "e0067db3-43fb-4c51-962d-b054ac283277"
      },
      "execution_count": null,
      "outputs": [
        {
          "output_type": "stream",
          "name": "stdout",
          "text": [
            "ジュースで乾杯！\n"
          ]
        }
      ]
    },
    {
      "cell_type": "code",
      "source": [
        "print(\"こんにちわ\")\n",
        "print(\"今日はいい天気です\")"
      ],
      "metadata": {
        "colab": {
          "base_uri": "https://localhost:8080/"
        },
        "id": "okHI_JUl3M9P",
        "outputId": "2136247b-f78d-4158-ab6c-7b8f4f7a056e"
      },
      "execution_count": null,
      "outputs": [
        {
          "output_type": "stream",
          "name": "stdout",
          "text": [
            "こんにちわ\n",
            "今日はいい天気です\n"
          ]
        }
      ]
    },
    {
      "cell_type": "code",
      "source": [
        "print(100)"
      ],
      "metadata": {
        "colab": {
          "base_uri": "https://localhost:8080/"
        },
        "id": "4l6td1QZ3at0",
        "outputId": "03199137-ccdd-4fae-c50b-af6b39b01698"
      },
      "execution_count": null,
      "outputs": [
        {
          "output_type": "stream",
          "name": "stdout",
          "text": [
            "100\n"
          ]
        }
      ]
    },
    {
      "cell_type": "code",
      "source": [
        "print(-123)"
      ],
      "metadata": {
        "colab": {
          "base_uri": "https://localhost:8080/"
        },
        "id": "fUKYe0S73jwp",
        "outputId": "17d616d9-44e7-4714-e085-784fd4fbb95a"
      },
      "execution_count": null,
      "outputs": [
        {
          "output_type": "stream",
          "name": "stdout",
          "text": [
            "-123\n"
          ]
        }
      ]
    },
    {
      "cell_type": "code",
      "source": [
        "print(0.1)"
      ],
      "metadata": {
        "colab": {
          "base_uri": "https://localhost:8080/"
        },
        "id": "oisGxCOo3qXg",
        "outputId": "d20e70d1-9841-42c4-deee-f5f25534b944"
      },
      "execution_count": null,
      "outputs": [
        {
          "output_type": "stream",
          "name": "stdout",
          "text": [
            "0.1\n"
          ]
        }
      ]
    },
    {
      "cell_type": "code",
      "source": [
        "print(True)\n",
        "print(False)"
      ],
      "metadata": {
        "colab": {
          "base_uri": "https://localhost:8080/"
        },
        "id": "2v2ppjGa3xl3",
        "outputId": "00c5a58d-5bcf-4f97-ad27-1dd46355b982"
      },
      "execution_count": null,
      "outputs": [
        {
          "output_type": "stream",
          "name": "stdout",
          "text": [
            "True\n",
            "False\n"
          ]
        }
      ]
    },
    {
      "cell_type": "code",
      "source": [
        "print(45+18)\n",
        "print(30-12)\n",
        "print(15*6)\n",
        "print(30/3)\n",
        "print(45%8)"
      ],
      "metadata": {
        "colab": {
          "base_uri": "https://localhost:8080/"
        },
        "id": "OvqYPipt4Cmh",
        "outputId": "09795540-9ef8-47ca-8a76-cff67d8427e2"
      },
      "execution_count": null,
      "outputs": [
        {
          "output_type": "stream",
          "name": "stdout",
          "text": [
            "63\n",
            "18\n",
            "90\n",
            "10.0\n",
            "5\n"
          ]
        }
      ]
    },
    {
      "cell_type": "code",
      "source": [
        "print(type(30/3))"
      ],
      "metadata": {
        "colab": {
          "base_uri": "https://localhost:8080/"
        },
        "id": "cBtUUpct4Y8L",
        "outputId": "035f88d7-7224-4e40-8993-cf01e3d22a21"
      },
      "execution_count": null,
      "outputs": [
        {
          "output_type": "stream",
          "name": "stdout",
          "text": [
            "<class 'float'>\n"
          ]
        }
      ]
    },
    {
      "cell_type": "code",
      "source": [
        "print(\"降水確率\"+str(50)+\"%\")"
      ],
      "metadata": {
        "colab": {
          "base_uri": "https://localhost:8080/"
        },
        "id": "vqkcC1WX46Bo",
        "outputId": "6bd28109-fe99-4981-e135-42b0e6119c62"
      },
      "execution_count": null,
      "outputs": [
        {
          "output_type": "stream",
          "name": "stdout",
          "text": [
            "降水確率50%\n"
          ]
        }
      ]
    },
    {
      "cell_type": "code",
      "source": [
        "user_name=\"侍太郎\"\n",
        "print(user_name)"
      ],
      "metadata": {
        "colab": {
          "base_uri": "https://localhost:8080/"
        },
        "id": "CEvE_iOx5UHD",
        "outputId": "9f5abde1-5d76-4526-8067-bbddb04096b7"
      },
      "execution_count": null,
      "outputs": [
        {
          "output_type": "stream",
          "name": "stdout",
          "text": [
            "侍太郎\n"
          ]
        }
      ]
    },
    {
      "cell_type": "code",
      "source": [
        "user_name=\"侍太郎\"\n",
        "print(user_name)\n",
        "\n",
        "user_name=\"侍花子\"\n",
        "print(user_name)"
      ],
      "metadata": {
        "colab": {
          "base_uri": "https://localhost:8080/"
        },
        "id": "5Lj-o4nG5lt_",
        "outputId": "7128d9f3-fce3-49c5-f120-fc93b44764a1"
      },
      "execution_count": null,
      "outputs": [
        {
          "output_type": "stream",
          "name": "stdout",
          "text": [
            "侍太郎\n",
            "侍花子\n"
          ]
        }
      ]
    },
    {
      "cell_type": "code",
      "source": [
        "#整数型と浮動小数点型の足し算\n",
        "number1=5\n",
        "number2=2.5\n",
        "print(number1+number2)\n",
        "\n",
        "#文字列型と文字列型の連結\n",
        "last_name=\"侍\"\n",
        "first_name=\"太郎\"\n",
        "print(last_name+first_name)"
      ],
      "metadata": {
        "colab": {
          "base_uri": "https://localhost:8080/"
        },
        "id": "tIGBkNlp5-tT",
        "outputId": "37f87bbd-c752-4937-c14c-42e858bb82e2"
      },
      "execution_count": null,
      "outputs": [
        {
          "output_type": "stream",
          "name": "stdout",
          "text": [
            "7.5\n",
            "侍太郎\n"
          ]
        }
      ]
    },
    {
      "cell_type": "code",
      "source": [
        "last_name=\"侍\"\n",
        "first_name=\"太郎\"\n",
        "sister_name=\"花子\"\n",
        "\n",
        "#３つの変数を文字列内に埋め込んで表示\n",
        "print(f\"私の名前は{last_name}{first_name}です。妹の名前は{sister_name}です。\")"
      ],
      "metadata": {
        "colab": {
          "base_uri": "https://localhost:8080/"
        },
        "id": "fMKsykB-62GB",
        "outputId": "dcd643b2-ab90-497e-9793-289f9b31ad31"
      },
      "execution_count": null,
      "outputs": [
        {
          "output_type": "stream",
          "name": "stdout",
          "text": [
            "私の名前は侍太郎です。妹の名前は花子です。\n"
          ]
        }
      ]
    },
    {
      "cell_type": "code",
      "source": [
        "print(10*5)\n",
        "print(10/5)"
      ],
      "metadata": {
        "colab": {
          "base_uri": "https://localhost:8080/"
        },
        "id": "7vKY079Xtthw",
        "outputId": "ba36b8d4-fdca-41ef-f037-5f56b18ba402"
      },
      "execution_count": null,
      "outputs": [
        {
          "output_type": "stream",
          "name": "stdout",
          "text": [
            "50\n",
            "2.0\n"
          ]
        }
      ]
    },
    {
      "cell_type": "code",
      "source": [
        "10%8"
      ],
      "metadata": {
        "colab": {
          "base_uri": "https://localhost:8080/"
        },
        "id": "0xQ3jCUiuYSg",
        "outputId": "d7de61b1-e434-4120-bc6d-e345a2c6659e"
      },
      "execution_count": null,
      "outputs": [
        {
          "output_type": "execute_result",
          "data": {
            "text/plain": [
              "2"
            ]
          },
          "metadata": {},
          "execution_count": 2
        }
      ]
    },
    {
      "cell_type": "code",
      "source": [
        "user_names=[\"侍太郎\",\"侍一郎\",\"侍二郎\",\"侍三郎\",\"侍四郎\"]\n",
        "user_ages=[36,33,29,25,22]\n",
        "# 定義付けは[ ]\n",
        "\n",
        "user_names.append(\"侍五郎\")\n",
        "# 変化を与える時は、( )\n",
        "user_names\n",
        "user_names.pop(2)\n",
        "user_names"
      ],
      "metadata": {
        "colab": {
          "base_uri": "https://localhost:8080/"
        },
        "id": "IvSnyn6khuBw",
        "outputId": "b2ec42da-8379-477d-b6ea-5372fefcc9dd"
      },
      "execution_count": null,
      "outputs": [
        {
          "output_type": "execute_result",
          "data": {
            "text/plain": [
              "['侍太郎', '侍一郎', '侍三郎', '侍四郎', '侍五郎']"
            ]
          },
          "metadata": {},
          "execution_count": 17
        }
      ]
    },
    {
      "cell_type": "code",
      "source": [
        "user_names=[\"侍太郎\",\"侍一郎\",\"侍二郎\",\"侍三郎\",\"侍四郎\"]\n",
        "user_names[1]=\"侍花子\"\n",
        "user_names"
      ],
      "metadata": {
        "colab": {
          "base_uri": "https://localhost:8080/"
        },
        "id": "XnwjohPTlK0c",
        "outputId": "89385635-cad7-4943-84aa-f8b40b081f9f"
      },
      "execution_count": null,
      "outputs": [
        {
          "output_type": "execute_result",
          "data": {
            "text/plain": [
              "['侍太郎', '侍花子', '侍二郎', '侍三郎', '侍四郎']"
            ]
          },
          "metadata": {},
          "execution_count": 19
        }
      ]
    },
    {
      "cell_type": "code",
      "source": [
        "num=50\n",
        "if 10<num:\n",
        "  print(\"変数numは10より大きいです\")\n",
        "  print(\"変数numは20より小さいです\")"
      ],
      "metadata": {
        "id": "lAI70wBgk9KJ",
        "colab": {
          "base_uri": "https://localhost:8080/"
        },
        "outputId": "f2de6870-1717-4d9e-c6dc-e1a4a384ec5c"
      },
      "execution_count": null,
      "outputs": [
        {
          "output_type": "stream",
          "name": "stdout",
          "text": [
            "変数numは10より大きいです\n",
            "変数numは20より小さいです\n"
          ]
        }
      ]
    },
    {
      "cell_type": "code",
      "source": [
        "45+18\n",
        "45>18"
      ],
      "metadata": {
        "colab": {
          "base_uri": "https://localhost:8080/"
        },
        "id": "QDS6KD36bi5b",
        "outputId": "ad21de96-4362-4cf2-ccaf-f759a732b15b"
      },
      "execution_count": null,
      "outputs": [
        {
          "output_type": "execute_result",
          "data": {
            "text/plain": [
              "True"
            ]
          },
          "metadata": {},
          "execution_count": 5
        }
      ]
    },
    {
      "cell_type": "code",
      "source": [
        "45+18"
      ],
      "metadata": {
        "colab": {
          "base_uri": "https://localhost:8080/"
        },
        "id": "WEgcjWOpbv0G",
        "outputId": "e88444eb-18a4-48a9-9172-1a0af5edc7f8"
      },
      "execution_count": null,
      "outputs": [
        {
          "output_type": "execute_result",
          "data": {
            "text/plain": [
              "63"
            ]
          },
          "metadata": {},
          "execution_count": 6
        }
      ]
    },
    {
      "cell_type": "code",
      "source": [
        "import random\n",
        "\n",
        "num=random.randint(0,4)\n",
        "\n",
        "print(num)\n",
        "\n",
        "if num==4:\n",
        "  print(\"大当たりです\")\n",
        "\n",
        "else:\n",
        "  print(\"はずれです\")"
      ],
      "metadata": {
        "colab": {
          "base_uri": "https://localhost:8080/"
        },
        "id": "O_ROStHNcNX7",
        "outputId": "56bc08d4-e84b-4977-c4ac-572897789312"
      },
      "execution_count": null,
      "outputs": [
        {
          "output_type": "stream",
          "name": "stdout",
          "text": [
            "3\n",
            "はずれです\n"
          ]
        }
      ]
    },
    {
      "cell_type": "code",
      "source": [
        "for i in range(5,11,2):\n",
        "   print(i)"
      ],
      "metadata": {
        "colab": {
          "base_uri": "https://localhost:8080/"
        },
        "id": "LIiZOiJzUVFK",
        "outputId": "353a5a54-ec8a-4919-8d72-bdcf97d32e3a"
      },
      "execution_count": null,
      "outputs": [
        {
          "output_type": "stream",
          "name": "stdout",
          "text": [
            "5\n",
            "7\n",
            "9\n"
          ]
        }
      ]
    },
    {
      "cell_type": "code",
      "source": [
        "for i in range(1,11):\n",
        "  print(i)\n",
        "\n",
        "  if i==5:\n",
        "    break"
      ],
      "metadata": {
        "colab": {
          "base_uri": "https://localhost:8080/"
        },
        "id": "L_NOMD2nVWY7",
        "outputId": "2e86ccb1-1a65-4997-b04b-27c1a234b768"
      },
      "execution_count": null,
      "outputs": [
        {
          "output_type": "stream",
          "name": "stdout",
          "text": [
            "1\n",
            "2\n",
            "3\n",
            "4\n",
            "5\n"
          ]
        }
      ]
    },
    {
      "cell_type": "code",
      "source": [
        "import random\n",
        "\n",
        "for i in range(1,11):\n",
        "\n",
        "  num = random.randint(1,20)\n",
        "\n",
        "  print(f\"{i}回目の結果は{num}です。\")\n",
        "\n",
        "  if num ==20:\n",
        "    print(\"20が出たので繰り返し処理を強制終了します。\")\n",
        "    break"
      ],
      "metadata": {
        "colab": {
          "base_uri": "https://localhost:8080/"
        },
        "id": "eriAB5LhV6It",
        "outputId": "35317299-4cef-45d2-8d07-40e9f682761f"
      },
      "execution_count": null,
      "outputs": [
        {
          "output_type": "stream",
          "name": "stdout",
          "text": [
            "1回目の結果は1です。\n",
            "2回目の結果は18です。\n",
            "3回目の結果は7です。\n",
            "4回目の結果は2です。\n",
            "5回目の結果は14です。\n",
            "6回目の結果は2です。\n",
            "7回目の結果は1です。\n",
            "8回目の結果は15です。\n",
            "9回目の結果は1です。\n",
            "10回目の結果は18です。\n"
          ]
        }
      ]
    },
    {
      "cell_type": "code",
      "source": [
        "import random\n",
        "\n",
        "num=random.randint(0,4)\n",
        "\n",
        "i=1\n",
        "\n",
        "print(f\"最初の値は{num}です。\")\n",
        "\n",
        "while num !=0:\n",
        "  num = random.randint(0, 4)\n",
        "\n",
        "  if i == 5:\n",
        "   print(\"5回目なので繰り返し処理を強制終了します。\")\n",
        "   break\n",
        "\n",
        "print(f\"現在の値は{num}です。\")\n",
        "i=i+1"
      ],
      "metadata": {
        "colab": {
          "base_uri": "https://localhost:8080/"
        },
        "id": "4-x_MKmwmBOh",
        "outputId": "6a96b99f-8315-45b7-b3f0-ef2ac90775f1"
      },
      "execution_count": null,
      "outputs": [
        {
          "output_type": "stream",
          "name": "stdout",
          "text": [
            "最初の値は1です。\n",
            "現在の値は0です。\n"
          ]
        }
      ]
    },
    {
      "cell_type": "code",
      "source": [
        "user_names = [\"侍太郎\", \"侍一郎\", \"侍二郎\", \"侍三郎\", \"侍四郎\"]\n",
        "\n",
        "for user_name in user_names:\n",
        " print(user_name)\n"
      ],
      "metadata": {
        "colab": {
          "base_uri": "https://localhost:8080/"
        },
        "id": "R1saPXK7wQ0G",
        "outputId": "33a2a286-64e1-4708-fa8c-e55f7c8221d0"
      },
      "execution_count": null,
      "outputs": [
        {
          "output_type": "stream",
          "name": "stdout",
          "text": [
            "侍太郎\n",
            "侍一郎\n",
            "侍二郎\n",
            "侍三郎\n",
            "侍四郎\n"
          ]
        }
      ]
    },
    {
      "cell_type": "code",
      "source": [
        "user_names = [\"侍太郎\", \"侍一郎\", \"侍二郎\", \"侍三郎\", \"侍四郎\"]\n",
        "\n",
        "# 配列user_namesの要素を1つずつ順番に出力する\n",
        "for user_name in user_names:\n",
        " print(user_name)\n"
      ],
      "metadata": {
        "colab": {
          "base_uri": "https://localhost:8080/"
        },
        "id": "tRAapMsZwaNG",
        "outputId": "abf872d1-3b7b-4c3e-c56a-ee383b271b21"
      },
      "execution_count": null,
      "outputs": [
        {
          "output_type": "stream",
          "name": "stdout",
          "text": [
            "侍太郎\n",
            "侍一郎\n",
            "侍二郎\n",
            "侍三郎\n",
            "侍四郎\n"
          ]
        }
      ]
    },
    {
      "cell_type": "code",
      "source": [
        "personal_data = {\"name\": \"侍太郎\", \"age\": 36, \"gender\": \"男性\"}\n",
        "\n",
        "for key, value in personal_data.items():\n",
        " print(f\"{key}は{value}です。\")\n"
      ],
      "metadata": {
        "colab": {
          "base_uri": "https://localhost:8080/"
        },
        "id": "fZWm9ddVwjSF",
        "outputId": "21b365e5-76bc-47bb-dfb8-f99157f8f83f"
      },
      "execution_count": null,
      "outputs": [
        {
          "output_type": "stream",
          "name": "stdout",
          "text": [
            "nameは侍太郎です。\n",
            "ageは36です。\n",
            "genderは男性です。\n"
          ]
        }
      ]
    },
    {
      "cell_type": "code",
      "source": [
        "personal_data = {\"name\": \"侍太郎\", \"age\": 36, \"gender\": \"男性\"}\n",
        "\n",
        "# 連想配列personal_dataのキーと値を1つずつ順番に出力する\n",
        "for key, value in personal_data.items():\n",
        " print(f\"{key}は{value}です。\")\n",
        "\n",
        "# 連想配列personal_dataの値を1つずつ順番に出力する\n",
        "for value in personal_data.values():\n",
        " print(value)\n"
      ],
      "metadata": {
        "colab": {
          "base_uri": "https://localhost:8080/"
        },
        "id": "50WeTkuywta1",
        "outputId": "6dee1c48-1e10-4ae7-d91e-ad0ae6a73110"
      },
      "execution_count": null,
      "outputs": [
        {
          "output_type": "stream",
          "name": "stdout",
          "text": [
            "nameは侍太郎です。\n",
            "ageは36です。\n",
            "genderは男性です。\n",
            "侍太郎\n",
            "36\n",
            "男性\n"
          ]
        }
      ]
    },
    {
      "cell_type": "code",
      "source": [
        "user_names = [\"侍太郎\", \"侍一郎\", \"侍二郎\", \"侍三郎\", \"侍四郎\"]\n",
        "\n",
        "# 配列user_namesのインデックスと値を1つずつ順番に出力する\n",
        "for index, value in enumerate(user_names):\n",
        " print(f\"{index} : {value}\")\n"
      ],
      "metadata": {
        "colab": {
          "base_uri": "https://localhost:8080/"
        },
        "id": "f9-YPXHDwxa1",
        "outputId": "ea563df6-89f0-4d8b-926e-2e20ada36a6c"
      },
      "execution_count": null,
      "outputs": [
        {
          "output_type": "stream",
          "name": "stdout",
          "text": [
            "0 : 侍太郎\n",
            "1 : 侍一郎\n",
            "2 : 侍二郎\n",
            "3 : 侍三郎\n",
            "4 : 侍四郎\n"
          ]
        }
      ]
    },
    {
      "cell_type": "code",
      "source": [
        "user_names = [\"侍太郎\", \"侍一郎\", \"侍二郎\", \"侍三郎\", \"侍四郎\"]\n",
        "\n",
        "# 検索したいユーザー名を代入する変数\n",
        "target = \"侍二郎\"\n",
        "\n",
        "for user_name in user_names:\n",
        " print(user_name)\n",
        "\n",
        " # 変数user_nameと変数targetの値が一致すれば、break文で繰り返し処理を強制終了する\n",
        " if (user_name == target):\n",
        "   print(f\"{target}さんが見つかったので、繰り返し処理を強制終了します。\")\n",
        "   break\n"
      ],
      "metadata": {
        "colab": {
          "base_uri": "https://localhost:8080/"
        },
        "id": "JAyRR0vOwyec",
        "outputId": "1ea829bc-a531-49ef-a07a-d02d04aaf2f1"
      },
      "execution_count": null,
      "outputs": [
        {
          "output_type": "stream",
          "name": "stdout",
          "text": [
            "侍太郎\n",
            "侍一郎\n",
            "侍二郎\n",
            "侍二郎さんが見つかったので、繰り返し処理を強制終了します。\n"
          ]
        }
      ]
    },
    {
      "cell_type": "code",
      "source": [
        "score = {\n",
        "   \"国語\": 80,\n",
        "   \"数学\": 55,\n",
        "   \"理科\": 70,\n",
        "   \"社会\": 85,\n",
        "   \"英語\": 60\n",
        "}\n",
        "\n",
        "print(\"合格した科目は以下のとおりです。\")\n",
        "\n",
        "for key, value in score.items():\n",
        "  # 変数valueの値（点数）が70より小さければ、キー（科目名）と値（点数）を出力せずにcontinue文で次のループに進む\n",
        "  if (value < 70):\n",
        "    continue\n",
        "  print(f\"{key} : {value}点\")\n"
      ],
      "metadata": {
        "colab": {
          "base_uri": "https://localhost:8080/"
        },
        "id": "kOtOflOxw8OP",
        "outputId": "2c54bdf9-b69e-450d-ba67-a5ff86b733f3"
      },
      "execution_count": null,
      "outputs": [
        {
          "output_type": "stream",
          "name": "stdout",
          "text": [
            "合格した科目は以下のとおりです。\n",
            "国語 : 80点\n",
            "理科 : 70点\n",
            "社会 : 85点\n"
          ]
        }
      ]
    },
    {
      "cell_type": "code",
      "source": [
        "def say_good_morning():\n",
        " print(\"おはようございます。\")\n",
        " print(\"昨日はよく眠れましたか？\")\n",
        " print(\"今日も一日頑張りましょう！\")\n",
        "\n",
        "def say_good_afternoon():\n",
        "  print(\"こんばんは！\")\n",
        "  print(\"今日も一日お疲れ様でした。\")\n",
        "\n",
        "say_good_morning()\n",
        "\n",
        "say_good_afternoon()\n"
      ],
      "metadata": {
        "colab": {
          "base_uri": "https://localhost:8080/"
        },
        "id": "OymVxQYNoJrJ",
        "outputId": "c18940aa-16c3-428d-8e4d-bc8b9e1eab9b"
      },
      "execution_count": null,
      "outputs": [
        {
          "output_type": "stream",
          "name": "stdout",
          "text": [
            "おはようございます。\n",
            "昨日はよく眠れましたか？\n",
            "今日も一日頑張りましょう！\n",
            "こんばんは！\n",
            "今日も一日お疲れ様でした。\n"
          ]
        }
      ]
    },
    {
      "cell_type": "code",
      "source": [
        "def calculate_total(price):\n",
        "  total=price+500\n",
        "\n",
        "  print(f\"{total}円\")\n",
        "\n",
        "calculate_total(1200)\n"
      ],
      "metadata": {
        "colab": {
          "base_uri": "https://localhost:8080/"
        },
        "id": "62UIg4AppdGB",
        "outputId": "9e042b2c-8ca7-42f8-ec1e-1aaa8a3280b3"
      },
      "execution_count": null,
      "outputs": [
        {
          "output_type": "stream",
          "name": "stdout",
          "text": [
            "1700円\n"
          ]
        }
      ]
    },
    {
      "cell_type": "code",
      "source": [
        "def add_two_arguments(price,shipping_fee):\n",
        " total=price+shipping_fee\n",
        "\n",
        " print(f\"{total}円\")\n",
        "\n",
        "add_two_arguments(1200,500)"
      ],
      "metadata": {
        "colab": {
          "base_uri": "https://localhost:8080/"
        },
        "id": "L41iTktQqCyX",
        "outputId": "f778cf4e-211a-4565-f6ea-e37e25727ed0"
      },
      "execution_count": null,
      "outputs": [
        {
          "output_type": "stream",
          "name": "stdout",
          "text": [
            "1700円\n"
          ]
        }
      ]
    },
    {
      "cell_type": "code",
      "source": [
        "purchased = True\n",
        "\n",
        "def is_purchased():\n",
        "  if (purchased):\n",
        "    return True\n",
        "  else:\n",
        "    return False\n",
        "\n",
        "  if (is_purchased()):\n",
        "   print(\"商品は購入済みです。\")"
      ],
      "metadata": {
        "id": "FGRkI1iRqo1o"
      },
      "execution_count": null,
      "outputs": []
    },
    {
      "cell_type": "code",
      "source": [
        "def double(num : int):\n",
        "  return num * 2"
      ],
      "metadata": {
        "id": "JGAloZqLrov1"
      },
      "execution_count": null,
      "outputs": []
    },
    {
      "cell_type": "code",
      "source": [
        "def show_user_name():\n",
        " # ローカル変数を定義する\n",
        " user_name = \"侍太郎\"\n",
        "\n",
        " # ローカルスコープの範囲内でローカル変数を使う\n",
        " print(user_name)\n",
        "\n",
        "show_user_name()\n"
      ],
      "metadata": {
        "colab": {
          "base_uri": "https://localhost:8080/"
        },
        "id": "KyhbMWqqumP1",
        "outputId": "6c077844-8d11-4873-e451-1ea36cc4b6d0"
      },
      "execution_count": null,
      "outputs": [
        {
          "output_type": "stream",
          "name": "stdout",
          "text": [
            "侍太郎\n"
          ]
        }
      ]
    },
    {
      "cell_type": "code",
      "source": [
        "def show_user_name():\n",
        " # ローカル変数を定義する\n",
        " user_name = \"侍太郎\"\n",
        "\n",
        " # ローカルスコープの範囲内でローカル変数を使う\n",
        " print(user_name)\n",
        "\n",
        "show_user_name()\n",
        "\n",
        "# ローカルスコープの範囲外でローカル変数を使う（エラーが発生する）\n",
        " print(user_name)"
      ],
      "metadata": {
        "colab": {
          "base_uri": "https://localhost:8080/",
          "height": 148
        },
        "id": "4SNxhPTHup-q",
        "outputId": "70a78334-40e1-4195-e4d6-8467e715fdef"
      },
      "execution_count": null,
      "outputs": [
        {
          "output_type": "error",
          "ename": "IndentationError",
          "evalue": "ignored",
          "traceback": [
            "\u001b[0;36m  File \u001b[0;32m\"<ipython-input-32-007f28701fbe>\"\u001b[0;36m, line \u001b[0;32m11\u001b[0m\n\u001b[0;31m    print(user_name)\u001b[0m\n\u001b[0m    ^\u001b[0m\n\u001b[0;31mIndentationError\u001b[0m\u001b[0;31m:\u001b[0m unexpected indent\n"
          ]
        }
      ]
    },
    {
      "cell_type": "code",
      "source": [
        "# グローバル変数を定義する\n",
        "user_name = \"侍花子\"\n",
        "\n",
        "def show_user_name():\n",
        " # ローカル変数を定義する\n",
        " user_name = \"侍太郎\"\n",
        "\n",
        " # ローカルスコープの範囲内でローカル変数を使う\n",
        " print(user_name)\n",
        "\n",
        "show_user_name()\n",
        "\n",
        "# グローバルスコープの範囲内でグローバル変数を使う\n",
        "print(user_name)\n"
      ],
      "metadata": {
        "colab": {
          "base_uri": "https://localhost:8080/"
        },
        "id": "21rUm36zu3Yc",
        "outputId": "28a9a59f-071e-4a4d-f50d-0a157a4cffc4"
      },
      "execution_count": null,
      "outputs": [
        {
          "output_type": "stream",
          "name": "stdout",
          "text": [
            "侍太郎\n",
            "侍花子\n"
          ]
        }
      ]
    },
    {
      "cell_type": "code",
      "source": [
        "# グローバル変数を定義する\n",
        "user_name = \"侍花子\"\n",
        "\n",
        "def show_user_name():\n",
        " # ローカル変数を定義する\n",
        "#  user_name = \"侍太郎\"\n",
        "\n",
        " # グローバルスコープの範囲外でグローバル変数を使う（エラーが発生する）\n",
        " print(user_name)\n",
        "\n",
        "show_user_name()\n",
        "\n",
        "# グローバルスコープの範囲内でグローバル変数を使う\n",
        "print(user_name)\n"
      ],
      "metadata": {
        "colab": {
          "base_uri": "https://localhost:8080/"
        },
        "id": "K9TCv8K-u77U",
        "outputId": "73c492fd-4b79-47dd-8537-365d44ad36bb"
      },
      "execution_count": null,
      "outputs": [
        {
          "output_type": "stream",
          "name": "stdout",
          "text": [
            "侍花子\n",
            "侍花子\n"
          ]
        }
      ]
    },
    {
      "cell_type": "markdown",
      "source": [
        "#15章　クラスを理解しよう"
      ],
      "metadata": {
        "id": "x29XLVoWVQwt"
      }
    },
    {
      "cell_type": "code",
      "source": [
        "class Product:\n",
        "   def __init__(self):\n",
        "     # 属性を定義する\n",
        "     self.name = \"\"\n",
        "\n",
        "shampoo = Product()\n",
        "\n",
        "# 属性にアクセスし、値を代入する\n",
        "shampoo.name = \"シャンプー\"\n",
        "\n",
        "# 属性にアクセスし、値を出力する\n",
        "print(shampoo.name)\n"
      ],
      "metadata": {
        "colab": {
          "base_uri": "https://localhost:8080/"
        },
        "id": "kjP3oE45VZ4l",
        "outputId": "adb26dd4-9988-4251-f7b0-7b4790a15823"
      },
      "execution_count": null,
      "outputs": [
        {
          "output_type": "stream",
          "name": "stdout",
          "text": [
            "シャンプー\n"
          ]
        }
      ]
    },
    {
      "cell_type": "code",
      "source": [
        "class Product:\n",
        "   def __init__(self):\n",
        "     self.name = \"\"\n",
        "\n",
        "   # メソッドを定義する\n",
        "   def set_name(self, name):\n",
        "     self.name = name\n",
        "\n",
        "   def show_name(self):\n",
        "     print(self.name)\n",
        "\n",
        "\n",
        "# インスタンス化する\n",
        "coffee = Product()\n",
        "\n",
        "# メソッドにアクセスして実行する\n",
        "coffee.set_name(\"コーヒー\")\n",
        "coffee.show_name()\n"
      ],
      "metadata": {
        "colab": {
          "base_uri": "https://localhost:8080/"
        },
        "id": "k_DfoNOuV3Ms",
        "outputId": "7f426e7d-0312-47b4-ef77-974c81896ac5"
      },
      "execution_count": null,
      "outputs": [
        {
          "output_type": "stream",
          "name": "stdout",
          "text": [
            "コーヒー\n"
          ]
        }
      ]
    },
    {
      "cell_type": "code",
      "source": [
        "class User:\n",
        "   # コンストラクタを定義する\n",
        "   def __init__(self, name, age, gender):\n",
        "     self.name = name\n",
        "     self.age = age\n",
        "     self.gender = gender\n",
        "\n",
        "   # メソッドを定義する\n",
        "   def set_name(self, name):\n",
        "     self.name = name\n",
        "\n",
        "   def show_name(self):\n",
        "     print(self.name)\n",
        "\n",
        "\n",
        "# インスタンス化する\n",
        "user = User(\"侍太郎\", 36, \"男性\")\n",
        "\n",
        "# 属性にアクセスし、値を出力する\n",
        "print(user.name)\n",
        "print(user.age)\n",
        "print(user.gender)\n"
      ],
      "metadata": {
        "colab": {
          "base_uri": "https://localhost:8080/"
        },
        "id": "A9-q6rIDV7yB",
        "outputId": "1def610c-0c32-41b0-916d-45ae441c4b62"
      },
      "execution_count": null,
      "outputs": [
        {
          "output_type": "stream",
          "name": "stdout",
          "text": [
            "侍太郎\n",
            "36\n",
            "男性\n"
          ]
        }
      ]
    },
    {
      "cell_type": "markdown",
      "source": [
        "#15章  まとめ"
      ],
      "metadata": {
        "id": "YdCY3pyJWKdN"
      }
    },
    {
      "cell_type": "code",
      "source": [
        "# クラスの定義（例：class Product: ...... ）\n",
        "class クラス名:\n",
        "    # コンストラクタの定義\n",
        "    def __init__(self):\n",
        "        初期化の内容\n",
        "\n",
        "    # メソッドの定義（例：public show_name(): ...... ）\n",
        "    def メソッド名():\n",
        "        一連の処理\n",
        "\n",
        "# インスタンス化（例：shampoo = Product()）\n",
        "インスタンス名 = クラス名()\n",
        "\n",
        "# 属性へのアクセス（例：shampoo.name）\n",
        "インスタンス名.属性名\n",
        "\n",
        "# メソッドへのアクセス（例：shampoo.show_name()）\n",
        "インスタンス名.メソッド名()\n"
      ],
      "metadata": {
        "id": "cSGCfxjLWApy"
      },
      "execution_count": null,
      "outputs": []
    },
    {
      "cell_type": "markdown",
      "source": [
        "#課題15提出\n",
        "クラスを使いこなそう"
      ],
      "metadata": {
        "id": "VxN7XHRZZzoc"
      }
    },
    {
      "cell_type": "code",
      "source": [
        "class Human:\n",
        "    def __init__(self, name, age):\n",
        "        self.name = name\n",
        "        self.age = age\n",
        "\n",
        "    def printinfo(self):\n",
        "        print(f\"名前: {self.name}\")\n",
        "        print(f\"年齢: {self.age}\")\n",
        "\n",
        "# Humanクラスのインスタンス作成\n",
        "human_instance = Human(\"侍太郎\", 36)\n",
        "\n",
        "# printinfoメソッドを呼び出し属性表示\n",
        "human_instance.printinfo()\n"
      ],
      "metadata": {
        "colab": {
          "base_uri": "https://localhost:8080/"
        },
        "id": "sLpU_a3mWHWp",
        "outputId": "64e5a8f8-50bc-475d-c56c-4adc6e038c55"
      },
      "execution_count": null,
      "outputs": [
        {
          "output_type": "stream",
          "name": "stdout",
          "text": [
            "名前: 侍太郎\n",
            "年齢: 36\n"
          ]
        }
      ]
    },
    {
      "cell_type": "markdown",
      "source": [
        "#16章 日付・時刻の処理を理解しよう"
      ],
      "metadata": {
        "id": "4XkoRKdzaSvF"
      }
    },
    {
      "cell_type": "code",
      "source": [
        "# Pythonで日時を取得する主な方法は、以下の2つです。\n",
        "\n",
        "# timeモジュール\n",
        "# datetimeモジュール"
      ],
      "metadata": {
        "id": "iAwV9UrNaOqq"
      },
      "execution_count": null,
      "outputs": []
    },
    {
      "cell_type": "markdown",
      "source": [
        "#タイムゾーンを日本へ"
      ],
      "metadata": {
        "id": "v1oLZn1LboFr"
      }
    },
    {
      "cell_type": "code",
      "source": [
        "!rm /etc/localtime\n",
        "!ln -s /usr/share/zoneinfo/Asia/Tokyo /etc/localtime\n",
        "!date\n",
        "\n"
      ],
      "metadata": {
        "colab": {
          "base_uri": "https://localhost:8080/"
        },
        "id": "SkCdzJeSbsow",
        "outputId": "85f98003-d903-46d8-fdd1-6aa772c81991"
      },
      "execution_count": null,
      "outputs": [
        {
          "output_type": "stream",
          "name": "stdout",
          "text": [
            "Wed Aug 16 10:00:26 PM JST 2023\n"
          ]
        }
      ]
    },
    {
      "cell_type": "code",
      "source": [
        "# timeモジュールをインポート\n",
        "import time\n",
        "\n",
        "# 現在の日時を指定したフォーマットで出力する\n",
        "print(time.strftime(\"%Y年%m月%d日%H時%M分%S秒\", time.localtime()))\n"
      ],
      "metadata": {
        "colab": {
          "base_uri": "https://localhost:8080/"
        },
        "id": "3WS0q0ywbw0i",
        "outputId": "a79e4fa9-9cfa-4d9c-fb74-e7596908c70e"
      },
      "execution_count": null,
      "outputs": [
        {
          "output_type": "stream",
          "name": "stdout",
          "text": [
            "2023年08月16日13時00分57秒\n"
          ]
        }
      ]
    },
    {
      "cell_type": "markdown",
      "source": [
        "#UNIXタイムスタンプ  \n",
        "-UNIXタイムスタンプとは、例えば「1426690800」「1652662122」など、1970年1月1日0時0分0秒からの経過秒数のことです。  \n",
        "-日付の表現としては見慣れない形式だと思いますが、言語やタイムゾーン（同じ標準時を使う地域のこと）がさまざまなインターネットの世界では日付の表現も多くの種類が存在します。  \n",
        "-その中で共通の整数型の値として扱えるUNIXタイムスタンプは、よく出てくる形式"
      ],
      "metadata": {
        "id": "iyyU0302cB0u"
      }
    },
    {
      "cell_type": "code",
      "source": [
        "# timeモジュールをインポート\n",
        "import time\n",
        "\n",
        "# 現在時刻をUNIXタイムスタンプで取得\n",
        "print(time.time())\n"
      ],
      "metadata": {
        "colab": {
          "base_uri": "https://localhost:8080/"
        },
        "id": "sf6Y7LHvb1pK",
        "outputId": "36dd784e-cf69-4485-fc43-c20291744e62"
      },
      "execution_count": null,
      "outputs": [
        {
          "output_type": "stream",
          "name": "stdout",
          "text": [
            "1692191078.5464504\n"
          ]
        }
      ]
    },
    {
      "cell_type": "markdown",
      "source": [
        "#datetimeモジュール"
      ],
      "metadata": {
        "id": "Y_yb--Ovcwua"
      }
    },
    {
      "cell_type": "code",
      "source": [
        "# datetimeモジュールをインポート\n",
        "import datetime\n",
        "\n",
        "# 指定した日時を取得する\n",
        "date_time = datetime.datetime.strptime(\"2015-03-19 12:15:30\", \"%Y-%m-%d %H:%M:%S\")\n",
        "\n",
        "# 取得した日付date_timeの日時を特定のフォーマットで出力する\n",
        "print(date_time.strftime(\"%Y年%m月%d日%H時%M分%S秒\"))\n"
      ],
      "metadata": {
        "colab": {
          "base_uri": "https://localhost:8080/"
        },
        "id": "HI5LTLJcc0uX",
        "outputId": "8b2121b3-29d5-4291-9b08-3b4d232a884c"
      },
      "execution_count": null,
      "outputs": [
        {
          "output_type": "stream",
          "name": "stdout",
          "text": [
            "2015年03月19日12時15分30秒\n"
          ]
        }
      ]
    },
    {
      "cell_type": "code",
      "source": [
        "# datetimeモジュールをインポート\n",
        "import datetime\n",
        "\n",
        "# 指定した日時を取得する\n",
        "date_time = datetime.datetime.strptime(\"2015-03-19 12:15:30\", \"%Y-%m-%d %H:%M:%S\")\n",
        "\n",
        "print(date_time)\n",
        "\n",
        "# 年,月,日,時,分,秒だけをそれぞれ取り出すことも可能です\n",
        "print(date_time.year)\n",
        "print(date_time.month)\n",
        "print(date_time.day)\n",
        "print(date_time.hour)\n",
        "print(date_time.minute)\n",
        "print(date_time.second)\n"
      ],
      "metadata": {
        "colab": {
          "base_uri": "https://localhost:8080/"
        },
        "id": "w6tRtenMc57J",
        "outputId": "fb7d2676-1c56-4a5d-cdc1-1e63f0279a6e"
      },
      "execution_count": null,
      "outputs": [
        {
          "output_type": "stream",
          "name": "stdout",
          "text": [
            "2015-03-19 12:15:30\n",
            "2015\n",
            "3\n",
            "19\n",
            "12\n",
            "15\n",
            "30\n"
          ]
        }
      ]
    },
    {
      "cell_type": "code",
      "source": [
        "# datetimeモジュールをインポート\n",
        "import datetime\n",
        "\n",
        "# 現在時刻を取得する\n",
        "now = datetime.datetime.now()\n",
        "\n",
        "# 指定した日時を取得する\n",
        "date_time = datetime.datetime.strptime(\"2015-03-19 12:15:30\", \"%Y-%m-%d %H:%M:%S\")\n",
        "\n",
        "# 2つのdatetimeの差を取得し、変数intervalに代入する（interval＝間隔）\n",
        "interval = now - date_time\n",
        "\n",
        "# 取得した日時の差を特定のフォーマットで出力する\n",
        "print(f\"総日数は{interval.days}日です。\")\n"
      ],
      "metadata": {
        "colab": {
          "base_uri": "https://localhost:8080/"
        },
        "id": "VpcoWncIc_9Z",
        "outputId": "7771db54-6b02-43d1-e346-cdf720847d73"
      },
      "execution_count": null,
      "outputs": [
        {
          "output_type": "stream",
          "name": "stdout",
          "text": [
            "総日数は3072日です。\n"
          ]
        }
      ]
    },
    {
      "cell_type": "code",
      "source": [
        "# datetimeモジュールをインポート\n",
        "import datetime\n",
        "\n",
        "# 現在時刻を取得する\n",
        "now = datetime.datetime.now()\n",
        "\n",
        "# 指定した日時を取得する\n",
        "date_time = datetime.datetime.strptime(\"2015-03-19 12:15:30\", \"%Y-%m-%d %H:%M:%S\")\n",
        "\n",
        "# 2つのdatetimeの差を取得し、変数intervalに代入する（interval＝間隔）\n",
        "interval = now - date_time\n",
        "\n",
        "# 取得した日時の差を特定のフォーマットで出力する\n",
        "print(f\"総日数は{interval.days}日です。\")\n"
      ],
      "metadata": {
        "colab": {
          "base_uri": "https://localhost:8080/"
        },
        "id": "nWbo0EWZdEfx",
        "outputId": "910a74fb-e58d-4535-b3ac-f40546ca5524"
      },
      "execution_count": null,
      "outputs": [
        {
          "output_type": "stream",
          "name": "stdout",
          "text": [
            "総日数は3072日です。\n"
          ]
        }
      ]
    },
    {
      "cell_type": "code",
      "source": [
        "# datetimeモジュールをインポート\n",
        "import datetime\n",
        "\n",
        "# 現在時刻を取得する\n",
        "now = datetime.datetime.now()\n",
        "\n",
        "# 1年間の日数差を変数td_1yに代入する\n",
        "td_1y = datetime.timedelta(days=365)\n",
        "\n",
        "# 現在の日時に1年を加算し、変数addに代入する\n",
        "add = now + td_1y\n",
        "\n",
        "# 3日間の日数差を変数td_3dに代入する\n",
        "td_3d = datetime.timedelta(days=3)\n",
        "\n",
        "# 現在の日時から3日を減算し、変数subに代入する（sub＝「減算」を意味するsubtractionの略）\n",
        "sub = now - td_3d\n",
        "\n",
        "# 加算・減算した日時を特定のフォーマットで出力する\n",
        "print(add.strftime(\"現在から1年後は%Y年%m月%d日%H時%M分%S秒です。\"))\n",
        "print(sub.strftime(\"現在から3日前は%Y年%m月%d日%H時%M分%S秒です。\"))\n"
      ],
      "metadata": {
        "colab": {
          "base_uri": "https://localhost:8080/"
        },
        "id": "62l36BzkdIYA",
        "outputId": "17b54a87-c4de-4e41-be4e-384b866040eb"
      },
      "execution_count": null,
      "outputs": [
        {
          "output_type": "stream",
          "name": "stdout",
          "text": [
            "現在から1年後は2024年08月15日13時06分50秒です。\n",
            "現在から3日前は2023年08月13日13時06分50秒です。\n"
          ]
        }
      ]
    },
    {
      "cell_type": "code",
      "source": [
        "# datetimeモジュールをインポート\n",
        "import datetime\n",
        "\n",
        "# 現在時刻を取得する\n",
        "now = datetime.datetime.now()\n",
        "\n",
        "# 1年間の日数差を変数td_1yに代入する\n",
        "td_1y = datetime.timedelta(days=365)\n",
        "\n",
        "# 現在の日時に1年を加算し、変数addに代入する\n",
        "add = now + td_1y\n",
        "\n",
        "# 3日間の日数差を変数td_3dに代入する\n",
        "td_3d = datetime.timedelta(days=3)\n",
        "\n",
        "# 現在の日時から3日を減算し、変数subに代入する（sub＝「減算」を意味するsubtractionの略）\n",
        "sub = now - td_3d\n",
        "\n",
        "# 加算・減算した日時を特定のフォーマットで出力する\n",
        "print(add.strftime(\"現在から1年後は%Y年%m月%d日%H時%M分%S秒です。\"))\n",
        "print(sub.strftime(\"現在から3日前は%Y年%m月%d日%H時%M分%S秒です。\"))\n"
      ],
      "metadata": {
        "colab": {
          "base_uri": "https://localhost:8080/"
        },
        "id": "QOr9dzvddL1h",
        "outputId": "74cfdf5d-caa2-4e8e-d918-4ef24f918006"
      },
      "execution_count": null,
      "outputs": [
        {
          "output_type": "stream",
          "name": "stdout",
          "text": [
            "現在から1年後は2024年08月15日13時07分04秒です。\n",
            "現在から3日前は2023年08月13日13時07分04秒です。\n"
          ]
        }
      ]
    },
    {
      "cell_type": "markdown",
      "source": [
        "#17章 パッケージ・モジュールについて理解しよう"
      ],
      "metadata": {
        "id": "XFcAlEmAdTNS"
      }
    },
    {
      "cell_type": "code",
      "source": [
        "pip install Django\n"
      ],
      "metadata": {
        "colab": {
          "base_uri": "https://localhost:8080/"
        },
        "id": "meOnKAj4dPSB",
        "outputId": "f8541d01-9556-452e-c5aa-e07018c67d81"
      },
      "execution_count": null,
      "outputs": [
        {
          "output_type": "stream",
          "name": "stdout",
          "text": [
            "Collecting Django\n",
            "  Downloading Django-4.2.4-py3-none-any.whl (8.0 MB)\n",
            "\u001b[2K     \u001b[90m━━━━━━━━━━━━━━━━━━━━━━━━━━━━━━━━━━━━━━━━\u001b[0m \u001b[32m8.0/8.0 MB\u001b[0m \u001b[31m21.5 MB/s\u001b[0m eta \u001b[36m0:00:00\u001b[0m\n",
            "\u001b[?25hCollecting asgiref<4,>=3.6.0 (from Django)\n",
            "  Downloading asgiref-3.7.2-py3-none-any.whl (24 kB)\n",
            "Requirement already satisfied: sqlparse>=0.3.1 in /usr/local/lib/python3.10/dist-packages (from Django) (0.4.4)\n",
            "Requirement already satisfied: typing-extensions>=4 in /usr/local/lib/python3.10/dist-packages (from asgiref<4,>=3.6.0->Django) (4.7.1)\n",
            "Installing collected packages: asgiref, Django\n",
            "Successfully installed Django-4.2.4 asgiref-3.7.2\n"
          ]
        }
      ]
    },
    {
      "cell_type": "markdown",
      "source": [
        "#モジュールやパッケージを利用するためのimport文"
      ],
      "metadata": {
        "id": "8CrT6ho1diEe"
      }
    },
    {
      "cell_type": "code",
      "source": [
        "import django\n",
        "print(django.get_version())\n",
        "# 3.0.6\n"
      ],
      "metadata": {
        "colab": {
          "base_uri": "https://localhost:8080/"
        },
        "id": "MVd8N-85ddQy",
        "outputId": "17737244-3a76-4afb-8f34-17c7e1569355"
      },
      "execution_count": null,
      "outputs": [
        {
          "output_type": "stream",
          "name": "stdout",
          "text": [
            "4.2.4\n"
          ]
        }
      ]
    },
    {
      "cell_type": "markdown",
      "source": [
        "#課題17\n",
        "  \n",
        "学習したことを組み合わせてコードを書こう"
      ],
      "metadata": {
        "id": "eyggy9MwfxmU"
      }
    },
    {
      "cell_type": "code",
      "source": [
        "class Human:\n",
        "    def __init__(self, name, age):\n",
        "        self.name = name\n",
        "        self.age = age\n",
        "\n",
        "    def check_adult(self):\n",
        "        if self.age >= 20:\n",
        "            print(f\"{self.name}は大人である。\")\n",
        "        else:\n",
        "            print(f\"{self.name}は大人でない。\")\n",
        "\n",
        "# Humanクラスのインスタンスをリストに追加\n",
        "humans = [\n",
        "    Human(\"侍太郎\", 25),\n",
        "    Human(\"侍花子\", 18),\n",
        "    Human(\"侍二郎\", 30)\n",
        "]\n",
        "\n",
        "# リストの要素数分だけcheck_adultメソッドを呼び出す\n",
        "for human in humans:\n",
        "    human.check_adult()"
      ],
      "metadata": {
        "colab": {
          "base_uri": "https://localhost:8080/"
        },
        "id": "5jksmgIndnrZ",
        "outputId": "f8ac798b-ff87-4396-f5fe-72dac31563b8"
      },
      "execution_count": null,
      "outputs": [
        {
          "output_type": "stream",
          "name": "stdout",
          "text": [
            "侍太郎は大人である。\n",
            "侍花子は大人でない。\n",
            "侍二郎は大人である。\n"
          ]
        }
      ]
    },
    {
      "cell_type": "markdown",
      "source": [
        "##Djangoの基礎を学ぼう"
      ],
      "metadata": {
        "id": "soxmlM9jgcW4"
      }
    },
    {
      "cell_type": "markdown",
      "source": [
        "#1章 Djangoの概要を理解しよう"
      ],
      "metadata": {
        "id": "ujCPjSOQhIIo"
      }
    },
    {
      "cell_type": "code",
      "source": [
        "# 1 Djangoについての説明で正しいものはどれか\n",
        "# Pythonで開発されたWebアプリケーションフレームワーク\n",
        "# 2 Djangoの主な用途は何か。\n",
        "# Webアプリケーションの開発\n",
        "# 3 DjangoのMTVアーキテクチャにおいて、Modelの役割は何か？\n",
        "# Viewで表示するデータを取得するためのDBのテーブルと対応するPythonクラス"
      ],
      "metadata": {
        "id": "VTXXcXARgMHi"
      },
      "execution_count": null,
      "outputs": []
    },
    {
      "cell_type": "markdown",
      "source": [
        "#2章 Djangoの開発環境を構築しよう"
      ],
      "metadata": {
        "id": "kbTy-WYxhQh8"
      }
    },
    {
      "cell_type": "code",
      "source": [],
      "metadata": {
        "id": "zjPQC-j3hMmv"
      },
      "execution_count": null,
      "outputs": []
    },
    {
      "cell_type": "markdown",
      "source": [
        "#8月22日Lesson"
      ],
      "metadata": {
        "id": "fl7A7ZK2CxU8"
      }
    },
    {
      "cell_type": "code",
      "source": [],
      "metadata": {
        "id": "lHc6gm5RC3QM"
      },
      "execution_count": null,
      "outputs": []
    }
  ]
}