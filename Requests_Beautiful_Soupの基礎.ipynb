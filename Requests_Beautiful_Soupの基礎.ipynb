{
  "nbformat": 4,
  "nbformat_minor": 0,
  "metadata": {
    "colab": {
      "provenance": [],
      "authorship_tag": "ABX9TyPWfiSmDRRDMqipwBaSr9EQ",
      "include_colab_link": true
    },
    "kernelspec": {
      "name": "python3",
      "display_name": "Python 3"
    },
    "language_info": {
      "name": "python"
    }
  },
  "cells": [
    {
      "cell_type": "markdown",
      "metadata": {
        "id": "view-in-github",
        "colab_type": "text"
      },
      "source": [
        "<a href=\"https://colab.research.google.com/github/Tomokki/python-basic/blob/main/Requests_Beautiful_Soup%E3%81%AE%E5%9F%BA%E7%A4%8E.ipynb\" target=\"_parent\"><img src=\"https://colab.research.google.com/assets/colab-badge.svg\" alt=\"Open In Colab\"/></a>"
      ]
    },
    {
      "cell_type": "code",
      "execution_count": null,
      "metadata": {
        "colab": {
          "base_uri": "https://localhost:8080/"
        },
        "id": "u6pGxJH9OyjF",
        "outputId": "221dc87d-bccf-4388-a32c-7ec2a1fbf546"
      },
      "outputs": [
        {
          "output_type": "stream",
          "name": "stdout",
          "text": [
            "Requirement already satisfied: requests in /usr/local/lib/python3.10/dist-packages (2.31.0)\n",
            "Requirement already satisfied: charset-normalizer<4,>=2 in /usr/local/lib/python3.10/dist-packages (from requests) (3.3.0)\n",
            "Requirement already satisfied: idna<4,>=2.5 in /usr/local/lib/python3.10/dist-packages (from requests) (3.4)\n",
            "Requirement already satisfied: urllib3<3,>=1.21.1 in /usr/local/lib/python3.10/dist-packages (from requests) (2.0.7)\n",
            "Requirement already satisfied: certifi>=2017.4.17 in /usr/local/lib/python3.10/dist-packages (from requests) (2023.7.22)\n"
          ]
        }
      ],
      "source": [
        "!pip install requests\n",
        "\n"
      ]
    },
    {
      "cell_type": "code",
      "source": [
        "import requests\n"
      ],
      "metadata": {
        "id": "Rwh5iDoMPAa0"
      },
      "execution_count": null,
      "outputs": []
    },
    {
      "cell_type": "code",
      "source": [
        "import requests\n",
        "\n",
        "response = requests.get('https://www.google.com/')\n",
        "print(response.status_code)\n"
      ],
      "metadata": {
        "colab": {
          "base_uri": "https://localhost:8080/"
        },
        "id": "bYOQBqZVPBUE",
        "outputId": "93d0b223-e8ba-436d-e6b4-0b0070b4a3fd"
      },
      "execution_count": null,
      "outputs": [
        {
          "output_type": "stream",
          "name": "stdout",
          "text": [
            "200\n"
          ]
        }
      ]
    },
    {
      "cell_type": "code",
      "source": [
        "print(response.text)\n"
      ],
      "metadata": {
        "colab": {
          "base_uri": "https://localhost:8080/"
        },
        "id": "2WfBw502PEJj",
        "outputId": "a8e47a85-044d-4dc3-d4a3-c8de4628326d"
      },
      "execution_count": null,
      "outputs": [
        {
          "output_type": "stream",
          "name": "stdout",
          "text": [
            "<!doctype html><html itemscope=\"\" itemtype=\"http://schema.org/WebPage\" lang=\"en\"><head><meta content=\"Search the world's information, including webpages, images, videos and more. Google has many special features to help you find exactly what you're looking for.\" name=\"description\"><meta content=\"noodp\" name=\"robots\"><meta content=\"text/html; charset=UTF-8\" http-equiv=\"Content-Type\"><meta content=\"/images/branding/googleg/1x/googleg_standard_color_128dp.png\" itemprop=\"image\"><title>Google</title><script nonce=\"nLl9n6j0rUSLNc7Q4FPyLA\">(function(){var _g={kEI:'dJQ2Zf7CJJ--0PEP1deO2AY',kEXPI:'0,1365468,206,4804,2316,383,246,5,1129120,1197704,697,380090,16111,28687,22431,1361,284,12033,17582,4998,17075,6885,31559,2872,2891,3926,213,4209,3406,606,30668,30022,2614,12710,2025,1,16918,2650,4,32894,24508,2215,2980,1457,22613,6624,7596,1,42154,2,16395,342,3534,19490,5679,1021,25047,6074,4569,6255,23421,1252,29385,3679,2,2,1,6960,3997,12868,801,2256,7905,23351,873,7829,11804,7,1922,9779,42459,3142,17056,928,19209,14,82,7651,8863,3692,109,2412,1549,4307,13129,11234,782,2248,11151,6469,7734,3757,1257,8263,4821,1260,7901,8127,978,2984,342,1290,2174,6668,17859,7915,21746,5209142,997,2,195,385,5994385,96,2806429,141,795,29239,31,9,6,36,53,164,3,40,7,17,5,9,8,9,23940932,4044106,14298,2375,40903,1761,1222,3,307,256,1542,3,1170,4,1262,541,1390965,23759270,3323,803,4037,4636,2945,5464,2878,1595,3530,24,5494,1178,241,1725,4246,6885,3250,26,3042,873,1,1,2,3,2814,3765,3118,3999,1879,1523,1713,302,2457,6775,312,421,778,836,2,1116,7147,1302,421,2,5522,552,9,3807,1641,3170,1,1,2,3,249,141,2,1296,2052,27,6,5,15,313,1064,3,1047,4,499,412,1766,683,4,877,11,7,957,891,1,14,762,9,214,3,1328,884,610,35,1682,1,1303,7,91,746,248,541,412,454,349,11,1,1288,937,2,46,802,1,328,11,695,870,22,3,2,104,21,8,815,115,127,245,511,1,245,127,2,735,286,1046,75,62,480,1,181,6,2,1,198,142,5,274,53,1,292,246,254,55,124,720,347,107,1336,505,1435,450,56,115,43,281,196,75,74,51,28,47,717,608,341,591,22,547,89,109,1048,128,545,714,2,792,472,227,30,336,627,2,171,1,305,522,24,301,300,4,687,668,1,1889,2',kBL:'1m8P',kOPI:89978449};(function(){var a;(null==(a=window.google)?0:a.stvsc)?google.kEI=_g.kEI:window.google=_g;}).call(this);})();(function(){google.sn='webhp';google.kHL='en';})();(function(){\n",
            "var h=this||self;function l(){return void 0!==window.google&&void 0!==window.google.kOPI&&0!==window.google.kOPI?window.google.kOPI:null};var m,n=[];function p(a){for(var b;a&&(!a.getAttribute||!(b=a.getAttribute(\"eid\")));)a=a.parentNode;return b||m}function q(a){for(var b=null;a&&(!a.getAttribute||!(b=a.getAttribute(\"leid\")));)a=a.parentNode;return b}function r(a){/^http:/i.test(a)&&\"https:\"===window.location.protocol&&(google.ml&&google.ml(Error(\"a\"),!1,{src:a,glmm:1}),a=\"\");return a}\n",
            "function t(a,b,c,d,k){var e=\"\";-1===b.search(\"&ei=\")&&(e=\"&ei=\"+p(d),-1===b.search(\"&lei=\")&&(d=q(d))&&(e+=\"&lei=\"+d));d=\"\";var g=-1===b.search(\"&cshid=\")&&\"slh\"!==a,f=[];f.push([\"zx\",Date.now().toString()]);h._cshid&&g&&f.push([\"cshid\",h._cshid]);c=c();null!=c&&f.push([\"opi\",c.toString()]);for(c=0;c<f.length;c++){if(0===c||0<c)d+=\"&\";d+=f[c][0]+\"=\"+f[c][1]}return\"/\"+(k||\"gen_204\")+\"?atyp=i&ct=\"+String(a)+\"&cad=\"+(b+e+d)};m=google.kEI;google.getEI=p;google.getLEI=q;google.ml=function(){return null};google.log=function(a,b,c,d,k,e){e=void 0===e?l:e;c||(c=t(a,b,e,d,k));if(c=r(c)){a=new Image;var g=n.length;n[g]=a;a.onerror=a.onload=a.onabort=function(){delete n[g]};a.src=c}};google.logUrl=function(a,b){b=void 0===b?l:b;return t(\"\",a,b)};}).call(this);(function(){google.y={};google.sy=[];google.x=function(a,b){if(a)var c=a.id;else{do c=Math.random();while(google.y[c])}google.y[c]=[a,b];return!1};google.sx=function(a){google.sy.push(a)};google.lm=[];google.plm=function(a){google.lm.push.apply(google.lm,a)};google.lq=[];google.load=function(a,b,c){google.lq.push([[a],b,c])};google.loadAll=function(a,b){google.lq.push([a,b])};google.bx=!1;google.lx=function(){};var d=[];google.fce=function(a,b,c,e){d.push([a,b,c,e])};google.qce=d;}).call(this);google.f={};(function(){\n",
            "document.documentElement.addEventListener(\"submit\",function(b){var a;if(a=b.target){var c=a.getAttribute(\"data-submitfalse\");a=\"1\"===c||\"q\"===c&&!a.elements.q.value?!0:!1}else a=!1;a&&(b.preventDefault(),b.stopPropagation())},!0);document.documentElement.addEventListener(\"click\",function(b){var a;a:{for(a=b.target;a&&a!==document.documentElement;a=a.parentElement)if(\"A\"===a.tagName){a=\"1\"===a.getAttribute(\"data-nohref\");break a}a=!1}a&&b.preventDefault()},!0);}).call(this);</script><style>#gbar,#guser{font-size:13px;padding-top:1px !important;}#gbar{height:22px}#guser{padding-bottom:7px !important;text-align:right}.gbh,.gbd{border-top:1px solid #c9d7f1;font-size:1px}.gbh{height:0;position:absolute;top:24px;width:100%}@media all{.gb1{height:22px;margin-right:.5em;vertical-align:top}#gbar{float:left}}a.gb1,a.gb4{text-decoration:underline !important}a.gb1,a.gb4{color:#00c !important}.gbi .gb4{color:#dd8e27 !important}.gbf .gb4{color:#900 !important}\n",
            "</style><style>body,td,a,p,.h{font-family:arial,sans-serif}body{margin:0;overflow-y:scroll}#gog{padding:3px 8px 0}td{line-height:.8em}.gac_m td{line-height:17px}form{margin-bottom:20px}.h{color:#1967d2}em{font-weight:bold;font-style:normal}.lst{height:25px;width:496px}.gsfi,.lst{font:18px arial,sans-serif}.gsfs{font:17px arial,sans-serif}.ds{display:inline-box;display:inline-block;margin:3px 0 4px;margin-left:4px}input{font-family:inherit}body{background:#fff;color:#000}a{color:#681da8;text-decoration:none}a:hover,a:active{text-decoration:underline}.fl a{color:#1967d2}a:visited{color:#681da8}.sblc{padding-top:5px}.sblc a{display:block;margin:2px 0;margin-left:13px;font-size:11px}.lsbb{background:#f8f9fa;border:solid 1px;border-color:#dadce0 #70757a #70757a #dadce0;height:30px}.lsbb{display:block}#WqQANb a{display:inline-block;margin:0 12px}.lsb{background:url(/images/nav_logo229.png) 0 -261px repeat-x;color:#000;border:none;cursor:pointer;height:30px;margin:0;outline:0;font:15px arial,sans-serif;vertical-align:top}.lsb:active{background:#dadce0}.lst:focus{outline:none}</style><script nonce=\"nLl9n6j0rUSLNc7Q4FPyLA\">(function(){window.google.erd={jsr:1,bv:1887,de:true};\n",
            "var h=this||self;var k,l=null!=(k=h.mei)?k:1,n,p=null!=(n=h.sdo)?n:!0,q=0,r,t=google.erd,v=t.jsr;google.ml=function(a,b,d,m,e){e=void 0===e?2:e;b&&(r=a&&a.message);void 0===d&&(d={});d.cad=\"ple_\"+google.ple+\".aple_\"+google.aple;if(google.dl)return google.dl(a,e,d),null;if(0>v){window.console&&console.error(a,d);if(-2===v)throw a;b=!1}else b=!a||!a.message||\"Error loading script\"===a.message||q>=l&&!m?!1:!0;if(!b)return null;q++;d=d||{};b=encodeURIComponent;var c=\"/gen_204?atyp=i&ei=\"+b(google.kEI);google.kEXPI&&(c+=\"&jexpid=\"+b(google.kEXPI));c+=\"&srcpg=\"+b(google.sn)+\"&jsr=\"+b(t.jsr)+\"&bver=\"+\n",
            "b(t.bv);var f=a.lineNumber;void 0!==f&&(c+=\"&line=\"+f);var g=a.fileName;g&&(0<g.indexOf(\"-extension:/\")&&(e=3),c+=\"&script=\"+b(g),f&&g===window.location.href&&(f=document.documentElement.outerHTML.split(\"\\n\")[f],c+=\"&cad=\"+b(f?f.substring(0,300):\"No script found.\")));google.ple&&1===google.ple&&(e=2);c+=\"&jsel=\"+e;for(var u in d)c+=\"&\",c+=b(u),c+=\"=\",c+=b(d[u]);c=c+\"&emsg=\"+b(a.name+\": \"+a.message);c=c+\"&jsst=\"+b(a.stack||\"N/A\");12288<=c.length&&(c=c.substr(0,12288));a=c;m||google.log(0,\"\",a);return a};window.onerror=function(a,b,d,m,e){r!==a&&(a=e instanceof Error?e:Error(a),void 0===d||\"lineNumber\"in a||(a.lineNumber=d),void 0===b||\"fileName\"in a||(a.fileName=b),google.ml(a,!1,void 0,!1,\"SyntaxError\"===a.name||\"SyntaxError\"===a.message.substring(0,11)||-1!==a.message.indexOf(\"Script error\")?3:0));r=null;p&&q>=l&&(window.onerror=null)};})();</script></head><body bgcolor=\"#fff\"><script nonce=\"nLl9n6j0rUSLNc7Q4FPyLA\">(function(){var src='/images/nav_logo229.png';var iesg=false;document.body.onload = function(){window.n && window.n();if (document.images){new Image().src=src;}\n",
            "if (!iesg){document.f&&document.f.q.focus();document.gbqf&&document.gbqf.q.focus();}\n",
            "}\n",
            "})();</script><div id=\"mngb\"><div id=gbar><nobr><b class=gb1>Search</b> <a class=gb1 href=\"https://www.google.com/imghp?hl=en&tab=wi\">Images</a> <a class=gb1 href=\"https://maps.google.com/maps?hl=en&tab=wl\">Maps</a> <a class=gb1 href=\"https://play.google.com/?hl=en&tab=w8\">Play</a> <a class=gb1 href=\"https://www.youtube.com/?tab=w1\">YouTube</a> <a class=gb1 href=\"https://news.google.com/?tab=wn\">News</a> <a class=gb1 href=\"https://mail.google.com/mail/?tab=wm\">Gmail</a> <a class=gb1 href=\"https://drive.google.com/?tab=wo\">Drive</a> <a class=gb1 style=\"text-decoration:none\" href=\"https://www.google.com/intl/en/about/products?tab=wh\"><u>More</u> &raquo;</a></nobr></div><div id=guser width=100%><nobr><span id=gbn class=gbi></span><span id=gbf class=gbf></span><span id=gbe></span><a href=\"http://www.google.com/history/optout?hl=en\" class=gb4>Web History</a> | <a  href=\"/preferences?hl=en\" class=gb4>Settings</a> | <a target=_top id=gb_70 href=\"https://accounts.google.com/ServiceLogin?hl=en&passive=true&continue=https://www.google.com/&ec=GAZAAQ\" class=gb4>Sign in</a></nobr></div><div class=gbh style=left:0></div><div class=gbh style=right:0></div></div><center><br clear=\"all\" id=\"lgpd\"><div id=\"lga\"><img alt=\"Google\" height=\"92\" src=\"/images/branding/googlelogo/1x/googlelogo_white_background_color_272x92dp.png\" style=\"padding:28px 0 14px\" width=\"272\" id=\"hplogo\"><br><br></div><form action=\"/search\" name=\"f\"><table cellpadding=\"0\" cellspacing=\"0\"><tr valign=\"top\"><td width=\"25%\">&nbsp;</td><td align=\"center\" nowrap=\"\"><input name=\"ie\" value=\"ISO-8859-1\" type=\"hidden\"><input value=\"en\" name=\"hl\" type=\"hidden\"><input name=\"source\" type=\"hidden\" value=\"hp\"><input name=\"biw\" type=\"hidden\"><input name=\"bih\" type=\"hidden\"><div class=\"ds\" style=\"height:32px;margin:4px 0\"><input class=\"lst\" style=\"margin:0;padding:5px 8px 0 6px;vertical-align:top;color:#000\" autocomplete=\"off\" value=\"\" title=\"Google Search\" maxlength=\"2048\" name=\"q\" size=\"57\"></div><br style=\"line-height:0\"><span class=\"ds\"><span class=\"lsbb\"><input class=\"lsb\" value=\"Google Search\" name=\"btnG\" type=\"submit\"></span></span><span class=\"ds\"><span class=\"lsbb\"><input class=\"lsb\" id=\"tsuid_1\" value=\"I'm Feeling Lucky\" name=\"btnI\" type=\"submit\"><script nonce=\"nLl9n6j0rUSLNc7Q4FPyLA\">(function(){var id='tsuid_1';document.getElementById(id).onclick = function(){if (this.form.q.value){this.checked = 1;if (this.form.iflsig)this.form.iflsig.disabled = false;}\n",
            "else top.location='/doodles/';};})();</script><input value=\"AO6bgOgAAAAAZTaihHxlrb1b-_EGUMb2PiWX0ga8FGRQ\" name=\"iflsig\" type=\"hidden\"></span></span></td><td class=\"fl sblc\" align=\"left\" nowrap=\"\" width=\"25%\"><a href=\"/advanced_search?hl=en&amp;authuser=0\">Advanced search</a></td></tr></table><input id=\"gbv\" name=\"gbv\" type=\"hidden\" value=\"1\"><script nonce=\"nLl9n6j0rUSLNc7Q4FPyLA\">(function(){var a,b=\"1\";if(document&&document.getElementById)if(\"undefined\"!=typeof XMLHttpRequest)b=\"2\";else if(\"undefined\"!=typeof ActiveXObject){var c,d,e=[\"MSXML2.XMLHTTP.6.0\",\"MSXML2.XMLHTTP.3.0\",\"MSXML2.XMLHTTP\",\"Microsoft.XMLHTTP\"];for(c=0;d=e[c++];)try{new ActiveXObject(d),b=\"2\"}catch(h){}}a=b;if(\"2\"==a&&-1==location.search.indexOf(\"&gbv=2\")){var f=google.gbvu,g=document.getElementById(\"gbv\");g&&(g.value=a);f&&window.setTimeout(function(){location.href=f},0)};}).call(this);</script></form><div id=\"gac_scont\"></div><div style=\"font-size:83%;min-height:3.5em\"><br></div><span id=\"footer\"><div style=\"font-size:10pt\"><div style=\"margin:19px auto;text-align:center\" id=\"WqQANb\"><a href=\"/intl/en/ads/\">Advertising</a><a href=\"/services/\">Business Solutions</a><a href=\"/intl/en/about.html\">About Google</a></div></div><p style=\"font-size:8pt;color:#70757a\">&copy; 2023 - <a href=\"/intl/en/policies/privacy/\">Privacy</a> - <a href=\"/intl/en/policies/terms/\">Terms</a></p></span></center><script nonce=\"nLl9n6j0rUSLNc7Q4FPyLA\">(function(){window.google.cdo={height:757,width:1440};(function(){var a=window.innerWidth,b=window.innerHeight;if(!a||!b){var c=window.document,d=\"CSS1Compat\"==c.compatMode?c.documentElement:c.body;a=d.clientWidth;b=d.clientHeight}\n",
            "if(a&&b&&(a!=google.cdo.width||b!=google.cdo.height)){var e=google,f=e.log,g=\"/client_204?&atyp=i&biw=\"+a+\"&bih=\"+b+\"&ei=\"+google.kEI,h=\"\",k=[],l=void 0!==window.google&&void 0!==window.google.kOPI&&0!==window.google.kOPI?window.google.kOPI:null;null!=l&&k.push([\"opi\",l.toString()]);for(var m=0;m<k.length;m++){if(0===m||0<m)h+=\"&\";h+=k[m][0]+\"=\"+k[m][1]}f.call(e,\"\",\"\",g+h)};}).call(this);})();</script> <script nonce=\"nLl9n6j0rUSLNc7Q4FPyLA\">(function(){google.xjs={ck:'xjs.hp.KyKuuSDuphM.L.X.O',cs:'ACT90oGNiVOgUn1GVgzGQFHRHtWgEZND0A',cssopt:false,csss:'ACT90oGy_7MtmpeDDXIDwD4FtWvogRNZjA',excm:[],sepcss:false};})();</script>     <script nonce=\"nLl9n6j0rUSLNc7Q4FPyLA\">(function(){var u='/xjs/_/js/k\\x3dxjs.hp.en.wLOnoTYhcK0.O/am\\x3dAAAAAAAAAAAAAAAAAAAAAAIAAAAAQAEAAQIAAAAAAAAAIAAAHQEAsAAAFw/d\\x3d1/ed\\x3d1/rs\\x3dACT90oFA7LHiJ-VV1j_HBWbaeTfbBxx0iQ/m\\x3dsb_he,d,cEt90b,SNUn3,qddgKe,sTsDMc,dtl0hd,eHDfl';var amd=0;\n",
            "var e=this||self,f=function(a){return a};var g;var h=function(a){this.g=a};h.prototype.toString=function(){return this.g+\"\"};var k={};var l=function(){var a=document;var b=\"SCRIPT\";\"application/xhtml+xml\"===a.contentType&&(b=b.toLowerCase());return a.createElement(b)};\n",
            "function m(a,b){a.src=b instanceof h&&b.constructor===h?b.g:\"type_error:TrustedResourceUrl\";var c,d;(c=(b=null==(d=(c=(a.ownerDocument&&a.ownerDocument.defaultView||window).document).querySelector)?void 0:d.call(c,\"script[nonce]\"))?b.nonce||b.getAttribute(\"nonce\")||\"\":\"\")&&a.setAttribute(\"nonce\",c)};function n(a){a=null===a?\"null\":void 0===a?\"undefined\":a;if(void 0===g){var b=null;var c=e.trustedTypes;if(c&&c.createPolicy){try{b=c.createPolicy(\"goog#html\",{createHTML:f,createScript:f,createScriptURL:f})}catch(d){e.console&&e.console.error(d.message)}g=b}else g=b}a=(b=g)?b.createScriptURL(a):a;return new h(a,k)};void 0===google.ps&&(google.ps=[]);function p(){var a=u,b=function(){};google.lx=google.stvsc?b:function(){q(a);google.lx=b};google.bx||google.lx()}function r(a,b){b&&m(a,n(b));var c=a.onload;a.onload=function(d){c&&c(d);google.ps=google.ps.filter(function(t){return a!==t})};google.ps.push(a);document.body.appendChild(a)}google.as=r;function q(a){google.timers&&google.timers.load&&google.tick&&google.tick(\"load\",\"xjsls\");var b=l();b.onerror=function(){google.ple=1};b.onload=function(){google.ple=0};google.xjsus=void 0;r(b,a);google.aple=-1;google.psa=!0};google.xjsu=u;e._F_jsUrl=u;setTimeout(function(){0<amd?google.caft(function(){return p()},amd):p()},0);})();window._ = window._ || {};window._DumpException = _._DumpException = function(e){throw e;};window._s = window._s || {};_s._DumpException = _._DumpException;window._qs = window._qs || {};_qs._DumpException = _._DumpException;(function(){var t=[1,0,0,0,512,83886144,2101248,0,536871168,74711040,720896,1472];window._F_toggles = window._xjs_toggles = t;})();function _F_installCss(c){}\n",
            "(function(){google.jl={blt:'none',chnk:0,dw:false,dwu:true,emtn:0,end:0,ico:false,ikb:0,ine:false,injs:'none',injt:0,injth:0,injv2:false,lls:'default',pdt:0,rep:0,snet:true,strt:0,ubm:false,uwp:true};})();(function(){var pmc='{\\x22d\\x22:{},\\x22sb_he\\x22:{\\x22agen\\x22:true,\\x22cgen\\x22:true,\\x22client\\x22:\\x22heirloom-hp\\x22,\\x22dh\\x22:true,\\x22ds\\x22:\\x22\\x22,\\x22fl\\x22:true,\\x22host\\x22:\\x22google.com\\x22,\\x22jsonp\\x22:true,\\x22msgs\\x22:{\\x22cibl\\x22:\\x22Clear Search\\x22,\\x22dym\\x22:\\x22Did you mean:\\x22,\\x22lcky\\x22:\\x22I\\\\u0026#39;m Feeling Lucky\\x22,\\x22lml\\x22:\\x22Learn more\\x22,\\x22psrc\\x22:\\x22This search was removed from your \\\\u003Ca href\\x3d\\\\\\x22/history\\\\\\x22\\\\u003EWeb History\\\\u003C/a\\\\u003E\\x22,\\x22psrl\\x22:\\x22Remove\\x22,\\x22sbit\\x22:\\x22Search by image\\x22,\\x22srch\\x22:\\x22Google Search\\x22},\\x22ovr\\x22:{},\\x22pq\\x22:\\x22\\x22,\\x22rfs\\x22:[],\\x22sbas\\x22:\\x220 3px 8px 0 rgba(0,0,0,0.2),0 0 0 1px rgba(0,0,0,0.08)\\x22,\\x22stok\\x22:\\x22pCGsw3rcw3xoh6sE7e22WwvoG9E\\x22}}';google.pmc=JSON.parse(pmc);})();(function(){var b=function(a){var c=0;return function(){return c<a.length?{done:!1,value:a[c++]}:{done:!0}}};\n",
            "var e=this||self;var g,h;a:{for(var k=[\"CLOSURE_FLAGS\"],l=e,n=0;n<k.length;n++)if(l=l[k[n]],null==l){h=null;break a}h=l}var p=h&&h[610401301];g=null!=p?p:!1;var q,r=e.navigator;q=r?r.userAgentData||null:null;function t(a){return g?q?q.brands.some(function(c){return(c=c.brand)&&-1!=c.indexOf(a)}):!1:!1}function u(a){var c;a:{if(c=e.navigator)if(c=c.userAgent)break a;c=\"\"}return-1!=c.indexOf(a)};function v(){return g?!!q&&0<q.brands.length:!1}function w(){return u(\"Safari\")&&!(x()||(v()?0:u(\"Coast\"))||(v()?0:u(\"Opera\"))||(v()?0:u(\"Edge\"))||(v()?t(\"Microsoft Edge\"):u(\"Edg/\"))||(v()?t(\"Opera\"):u(\"OPR\"))||u(\"Firefox\")||u(\"FxiOS\")||u(\"Silk\")||u(\"Android\"))}function x(){return v()?t(\"Chromium\"):(u(\"Chrome\")||u(\"CriOS\"))&&!(v()?0:u(\"Edge\"))||u(\"Silk\")}function y(){return u(\"Android\")&&!(x()||u(\"Firefox\")||u(\"FxiOS\")||(v()?0:u(\"Opera\"))||u(\"Silk\"))};var z=v()?!1:u(\"Trident\")||u(\"MSIE\");y();x();w();Object.freeze({});var A=!z&&!w(),D=function(a){if(/-[a-z]/.test(\"ved\"))return null;if(A&&a.dataset){if(y()&&!(\"ved\"in a.dataset))return null;a=a.dataset.ved;return void 0===a?null:a}return a.getAttribute(\"data-\"+\"ved\".replace(/([A-Z])/g,\"-$1\").toLowerCase())};var E=[],F=null;function G(a){a=a.target;var c=performance.now(),f=[],H=f.concat,d=E;if(!(d instanceof Array)){var m=\"undefined\"!=typeof Symbol&&Symbol.iterator&&d[Symbol.iterator];if(m)d=m.call(d);else if(\"number\"==typeof d.length)d={next:b(d)};else throw Error(\"a`\"+String(d));for(var B=[];!(m=d.next()).done;)B.push(m.value);d=B}E=H.call(f,d,[c]);if(a&&a instanceof HTMLElement)if(a===F){if(c=4<=E.length)c=5>(E[E.length-1]-E[E.length-4])/1E3;if(c){c=google.getEI(a);a.hasAttribute(\"data-ved\")?f=a?D(a)||\"\":\"\":f=(f=\n",
            "a.closest(\"[data-ved]\"))?D(f)||\"\":\"\";f=f||\"\";if(a.hasAttribute(\"jsname\"))a=a.getAttribute(\"jsname\");else{var C;a=null==(C=a.closest(\"[jsname]\"))?void 0:C.getAttribute(\"jsname\")}google.log(\"rcm\",\"&ei=\"+c+\"&ved=\"+f+\"&jsname=\"+(a||\"\"))}}else F=a,E=[c]}window.document.addEventListener(\"DOMContentLoaded\",function(){document.body.addEventListener(\"click\",G)});}).call(this);</script></body></html>\n"
          ]
        }
      ]
    },
    {
      "cell_type": "code",
      "source": [
        "!pip install beautifulsoup4\n"
      ],
      "metadata": {
        "colab": {
          "base_uri": "https://localhost:8080/"
        },
        "id": "jdFcX6XgPQ1S",
        "outputId": "218eb1ca-966b-468d-dcbb-504455db596b"
      },
      "execution_count": null,
      "outputs": [
        {
          "output_type": "stream",
          "name": "stdout",
          "text": [
            "Requirement already satisfied: beautifulsoup4 in /usr/local/lib/python3.10/dist-packages (4.11.2)\n",
            "Requirement already satisfied: soupsieve>1.2 in /usr/local/lib/python3.10/dist-packages (from beautifulsoup4) (2.5)\n"
          ]
        }
      ]
    },
    {
      "cell_type": "markdown",
      "source": [
        "#Beautiful soupをinstallする"
      ],
      "metadata": {
        "id": "7hqplobkNfg9"
      }
    },
    {
      "cell_type": "code",
      "source": [
        "from bs4 import BeautifulSoup\n"
      ],
      "metadata": {
        "id": "TrcGBjRxPhY5"
      },
      "execution_count": null,
      "outputs": []
    },
    {
      "cell_type": "code",
      "source": [
        "html = '''\n",
        "<!DOCTYPE html>\n",
        "<html>\n",
        "<head>\n",
        "<title>Example Page</title>\n",
        "</head>\n",
        "<body>\n",
        "<h1>Example Heading</h1>\n",
        "<p>This is an example paragraph.</p>\n",
        "<p class=\"example_class\">This is an example paragraph with a class.</p>\n",
        "<p id=\"example_id\">This is an example paragraph with an ID.</p>\n",
        "</body>\n",
        "</html>\n",
        "'''\n"
      ],
      "metadata": {
        "id": "v6hZjrlQPsFb"
      },
      "execution_count": null,
      "outputs": []
    },
    {
      "cell_type": "code",
      "source": [
        "soup = BeautifulSoup(html, 'html.parser')\n",
        "print(soup)\n"
      ],
      "metadata": {
        "colab": {
          "base_uri": "https://localhost:8080/"
        },
        "id": "MC4utId3PvzL",
        "outputId": "a22f4f56-54fd-4f9a-f15d-9f85056140d5"
      },
      "execution_count": null,
      "outputs": [
        {
          "output_type": "stream",
          "name": "stdout",
          "text": [
            "\n",
            "<html>\n",
            "<body>\n",
            "<div id=\"main\">\n",
            "<h1 class=\"title\">こんにちは、世界！</h1>\n",
            "<p class=\"description\">これはサンプルのHTMLです。</p>\n",
            "</div>\n",
            "</body>\n",
            "</html>\n",
            "\n"
          ]
        }
      ]
    },
    {
      "cell_type": "code",
      "source": [
        "p_tag = soup.find('p')\n",
        "print(p_tag)\n"
      ],
      "metadata": {
        "colab": {
          "base_uri": "https://localhost:8080/"
        },
        "id": "WpOUvZm_Py1D",
        "outputId": "952d7795-aeaa-4428-da43-0dabb622edfc"
      },
      "execution_count": null,
      "outputs": [
        {
          "output_type": "stream",
          "name": "stdout",
          "text": [
            "<p class=\"description\">これはサンプルのHTMLです。</p>\n"
          ]
        }
      ]
    },
    {
      "cell_type": "code",
      "source": [
        "example_class_tag = soup.find('p', class_='example_class')\n",
        "print(example_class_tag)\n"
      ],
      "metadata": {
        "colab": {
          "base_uri": "https://localhost:8080/"
        },
        "id": "9tGhYATgP4xT",
        "outputId": "eccd1d3b-a18d-4b09-923d-7d815a0ee8dd"
      },
      "execution_count": null,
      "outputs": [
        {
          "output_type": "stream",
          "name": "stdout",
          "text": [
            "None\n"
          ]
        }
      ]
    },
    {
      "cell_type": "code",
      "source": [
        "example_id_tag = soup.find('p', id='example_id')\n",
        "print(example_id_tag)\n"
      ],
      "metadata": {
        "colab": {
          "base_uri": "https://localhost:8080/"
        },
        "id": "bivLKFTPP9DE",
        "outputId": "7a0e3fb1-9145-4ad9-bfab-42acb650ef49"
      },
      "execution_count": null,
      "outputs": [
        {
          "output_type": "stream",
          "name": "stdout",
          "text": [
            "<p id=\"example_id\">This is an example paragraph with an ID.</p>\n"
          ]
        }
      ]
    },
    {
      "cell_type": "code",
      "source": [
        "example_id_tag = soup.find('p', id='example_id')\n",
        "print(example_id_tag.text)\n"
      ],
      "metadata": {
        "colab": {
          "base_uri": "https://localhost:8080/"
        },
        "id": "ZFVMpA1UQBsy",
        "outputId": "142897b5-107c-4ffd-abfc-0ac8c7e131fe"
      },
      "execution_count": null,
      "outputs": [
        {
          "output_type": "stream",
          "name": "stdout",
          "text": [
            "This is an example paragraph with an ID.\n"
          ]
        }
      ]
    },
    {
      "cell_type": "code",
      "source": [
        "from bs4 import BeautifulSoup\n",
        "\n",
        "html = '''\n",
        "<html>\n",
        "  <body>\n",
        "    <div id=\"main\">\n",
        "      <h1 class=\"title\">こんにちは、世界！</h1>\n",
        "      <p class=\"description\">これはサンプルのHTMLです。</p>\n",
        "    </div>\n",
        "  </body>\n",
        "</html>\n",
        "'''\n",
        "\n",
        "soup = BeautifulSoup(html, 'html.parser')\n",
        "h1_element = soup.select_one('h1')\n",
        "print(h1_element.text)  # こんにちは、世界！\n"
      ],
      "metadata": {
        "colab": {
          "base_uri": "https://localhost:8080/"
        },
        "id": "m9bVrAKgQHhJ",
        "outputId": "ab2be14f-9be9-4e4a-a5cd-5a9f31569f55"
      },
      "execution_count": null,
      "outputs": [
        {
          "output_type": "stream",
          "name": "stdout",
          "text": [
            "こんにちは、世界！\n"
          ]
        }
      ]
    },
    {
      "cell_type": "code",
      "source": [
        "!pip install requests beautifulsoup4\n"
      ],
      "metadata": {
        "colab": {
          "base_uri": "https://localhost:8080/"
        },
        "id": "Fu6ZWL6LQ0SY",
        "outputId": "46430356-dfdf-4e4a-dd2f-82605d853939"
      },
      "execution_count": null,
      "outputs": [
        {
          "output_type": "stream",
          "name": "stdout",
          "text": [
            "Requirement already satisfied: requests in /usr/local/lib/python3.10/dist-packages (2.31.0)\n",
            "Requirement already satisfied: beautifulsoup4 in /usr/local/lib/python3.10/dist-packages (4.11.2)\n",
            "Requirement already satisfied: charset-normalizer<4,>=2 in /usr/local/lib/python3.10/dist-packages (from requests) (3.3.0)\n",
            "Requirement already satisfied: idna<4,>=2.5 in /usr/local/lib/python3.10/dist-packages (from requests) (3.4)\n",
            "Requirement already satisfied: urllib3<3,>=1.21.1 in /usr/local/lib/python3.10/dist-packages (from requests) (2.0.7)\n",
            "Requirement already satisfied: certifi>=2017.4.17 in /usr/local/lib/python3.10/dist-packages (from requests) (2023.7.22)\n",
            "Requirement already satisfied: soupsieve>1.2 in /usr/local/lib/python3.10/dist-packages (from beautifulsoup4) (2.5)\n"
          ]
        }
      ]
    },
    {
      "cell_type": "code",
      "source": [
        "import requests\n",
        "from bs4 import BeautifulSoup\n"
      ],
      "metadata": {
        "id": "QVv07Z5lQ6DB"
      },
      "execution_count": null,
      "outputs": []
    },
    {
      "cell_type": "code",
      "source": [
        "# タイトルを取得する対象のURL\n",
        "url = 'https://news.yahoo.co.jp/articles/2d51a6c480fe0ab975544800e64aeccc5b7a7b59'\n"
      ],
      "metadata": {
        "id": "W7NwPhg1RXSn"
      },
      "execution_count": null,
      "outputs": []
    },
    {
      "cell_type": "code",
      "source": [
        "# GETリクエストを送信し、HTMLを取得する\n",
        "response = requests.get(url)\n"
      ],
      "metadata": {
        "id": "mt8sBBP9RaQA"
      },
      "execution_count": null,
      "outputs": []
    },
    {
      "cell_type": "code",
      "source": [
        "response.encoding = response.apparent_encoding\n",
        "print(response.text)"
      ],
      "metadata": {
        "id": "fnCq3xHQVepU"
      },
      "execution_count": null,
      "outputs": []
    },
    {
      "cell_type": "code",
      "source": [
        "# HTMLを解析する\n",
        "soup = BeautifulSoup(response.text, 'html.parser')\n"
      ],
      "metadata": {
        "id": "_EozAiLdRc-g"
      },
      "execution_count": null,
      "outputs": []
    },
    {
      "cell_type": "code",
      "source": [
        "import requests\n",
        "from bs4 import BeautifulSoup\n",
        "\n",
        "# 指定されたURLをリクエスト\n",
        "url = 'https://news.yahoo.co.jp/articles/2d51a6c480fe0ab975544800e64aeccc5b7a7b59'\n",
        "response = requests.get(url)\n",
        "\n",
        "# ページのコンテンツを取得\n",
        "content = response.text\n",
        "\n",
        "# BeautifulSoupを使用してHTMLを解析\n",
        "soup = BeautifulSoup(content, 'html.parser')\n",
        "\n",
        "# タイトル要素を取得\n",
        "title_element = soup.select_one('#uamods > div > div > p')\n",
        "\n",
        "# タイトルを出力\n",
        "if title_element:\n",
        "    print(title_element.get_text())\n",
        "else:\n",
        "    print('タイトルが見つかりませんでした。')\n"
      ],
      "metadata": {
        "colab": {
          "base_uri": "https://localhost:8080/"
        },
        "id": "Ytr3L_Csc-Kq",
        "outputId": "16e11d99-2ec7-4ff7-d600-4b3aeaeb9f05"
      },
      "execution_count": null,
      "outputs": [
        {
          "output_type": "stream",
          "name": "stdout",
          "text": [
            "　三島由紀夫や川端康成といった著名な作家たちに愛されたことで知られる「山の上ホテル」（東京都千代田区）が、来年2月13日から全館で休業する。休館の理由について「竣工（しゅんこう）から86年を迎える建物の老朽化への対応を検討するため」としている。\n",
            "\n",
            "【写真】川端康成への賞状も制作　芸術家夫婦が東北の港町に小さな美術館\n",
            "\n",
            "　同社が23日に公式ウェブサイトで発表した。休館の期間については「当面の間」としている。\n",
            "\n",
            "　建物は1937年竣工で、西洋の生活様式やマナーを啓蒙（けいもう）する施設として使われた後、54年にホテルとして開業した。JR御茶ノ水駅近くに立地する日本を代表するアール・デコ建築だ。\n",
            "\n",
            "　出版社の多い神田・神保町が近いこともあり、同社サイトでは「創業当初よりさまざまな作家の方々が『カンヅメ』で執筆活動を行うために宿泊された」としている。\n",
            "\n",
            "　三科徹・代表取締役社長は「皆様には大変ご迷惑をおかけいたしますが、何とぞご理解を賜りますよう心よりお願い申し上げます」とコメントしている。\n",
            "\n",
            "　問い合わせは、平日午前9時～午後5時に、同社総務部（03・5244・5232）へ。（三井新）\n"
          ]
        }
      ]
    },
    {
      "cell_type": "code",
      "source": [
        "import requests\n",
        "from bs4 import BeautifulSoup\n",
        "\n",
        "url = 'https://news.yahoo.co.jp/articles/2d51a6c480fe0ab975544800e64aeccc5b7a7b59'\n",
        "response = requests.get(url)\n",
        "\n",
        "content = response.text\n",
        "\n",
        "soup = BeautifulSoup(content, 'html.parser')\n",
        "\n",
        "articles = soup.select_one('#uamods > div > div > p')\n",
        "\n",
        "print(articles.get_text())\n"
      ],
      "metadata": {
        "colab": {
          "base_uri": "https://localhost:8080/"
        },
        "id": "uvs_XuNwdTH3",
        "outputId": "5e935da5-7aea-4b86-afb6-12228786d570"
      },
      "execution_count": null,
      "outputs": [
        {
          "output_type": "stream",
          "name": "stdout",
          "text": [
            "　三島由紀夫や川端康成といった著名な作家たちに愛されたことで知られる「山の上ホテル」（東京都千代田区）が、来年2月13日から全館で休業する。休館の理由について「竣工（しゅんこう）から86年を迎える建物の老朽化への対応を検討するため」としている。\n",
            "\n",
            "【写真】川端康成への賞状も制作　芸術家夫婦が東北の港町に小さな美術館\n",
            "\n",
            "　同社が23日に公式ウェブサイトで発表した。休館の期間については「当面の間」としている。\n",
            "\n",
            "　建物は1937年竣工で、西洋の生活様式やマナーを啓蒙（けいもう）する施設として使われた後、54年にホテルとして開業した。JR御茶ノ水駅近くに立地する日本を代表するアール・デコ建築だ。\n",
            "\n",
            "　出版社の多い神田・神保町が近いこともあり、同社サイトでは「創業当初よりさまざまな作家の方々が『カンヅメ』で執筆活動を行うために宿泊された」としている。\n",
            "\n",
            "　三科徹・代表取締役社長は「皆様には大変ご迷惑をおかけいたしますが、何とぞご理解を賜りますよう心よりお願い申し上げます」とコメントしている。\n",
            "\n",
            "　問い合わせは、平日午前9時～午後5時に、同社総務部（03・5244・5232）へ。（三井新）\n"
          ]
        }
      ]
    },
    {
      "cell_type": "code",
      "source": [
        "import requests\n",
        "from bs4 import BeautifulSoup\n",
        "\n",
        "url = 'https://news.yahoo.co.jp/articles/2d51a6c480fe0ab975544800e64aeccc5b7a7b59'\n",
        "response = requests.get(url)\n",
        "\n",
        "content = response.text\n",
        "\n",
        "soup = BeautifulSoup(content, 'html.parser')\n",
        "\n",
        "articles = soup.select_one('#uamods > div > div > p')\n",
        "\n",
        "print(articles)\n"
      ],
      "metadata": {
        "colab": {
          "base_uri": "https://localhost:8080/"
        },
        "id": "dbfAjP7peKAi",
        "outputId": "f8d524b0-e2d9-4883-d886-36248a597a7b"
      },
      "execution_count": null,
      "outputs": [
        {
          "output_type": "stream",
          "name": "stdout",
          "text": [
            "<p class=\"sc-iMCRTP ePfheF yjSlinkDirectlink highLightSearchTarget\">　三島由紀夫や川端康成といった著名な作家たちに愛されたことで知られる「山の上ホテル」（東京都千代田区）が、来年2月13日から全館で休業する。休館の理由について「竣工（しゅんこう）から86年を迎える建物の老朽化への対応を検討するため」としている。\n",
            "\n",
            "<a data-cl-params=\"_cl_vmodule:related;_cl_link:photo;_cl_position:1;view_pos:1;shcid:2d51a6c480fe0ab975544800e64aeccc5b7a7b59;url:http%3A%2F%2Fpreview.sora.aws.asahi-np.co.jp%3A10081%2Fdummy%2F20231024%2Fktcheck_morning_mailmag.html%3FPGID%3D77072%3Foai%3DASRBR71NLRBROXIE03D%26ref%3Dyahoo;title:【写真】川端康成への賞状も制作　芸術家夫婦が東北の港町に小さな美術館;\" href=\"http://preview.sora.aws.asahi-np.co.jp:10081/dummy/20231024/ktcheck_morning_mailmag.html?PGID=77072?oai=ASRBR71NLRBROXIE03D&amp;ref=yahoo\">【写真】川端康成への賞状も制作　芸術家夫婦が東北の港町に小さな美術館</a>\n",
            "\n",
            "　同社が23日に公式ウェブサイトで発表した。休館の期間については「当面の間」としている。\n",
            "\n",
            "　建物は1937年竣工で、西洋の生活様式やマナーを啓蒙（けいもう）する施設として使われた後、54年にホテルとして開業した。JR御茶ノ水駅近くに立地する日本を代表するアール・デコ建築だ。\n",
            "\n",
            "　出版社の多い神田・神保町が近いこともあり、同社サイトでは「創業当初よりさまざまな作家の方々が『カンヅメ』で執筆活動を行うために宿泊された」としている。\n",
            "\n",
            "　三科徹・代表取締役社長は「皆様には大変ご迷惑をおかけいたしますが、何とぞご理解を賜りますよう心よりお願い申し上げます」とコメントしている。\n",
            "\n",
            "　問い合わせは、平日午前9時～午後5時に、同社総務部（03・5244・5232）へ。（三井新）</p>\n"
          ]
        }
      ]
    }
  ]
}